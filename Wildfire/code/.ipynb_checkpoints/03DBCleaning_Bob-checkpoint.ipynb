{
 "cells": [
  {
   "cell_type": "markdown",
   "metadata": {},
   "source": [
    "This code is adapted from group member Juhee Sung-Schenck "
   ]
  },
  {
   "cell_type": "code",
   "execution_count": 1,
   "metadata": {},
   "outputs": [],
   "source": [
    "# import libraries\n",
    "\n",
    "import pandas as pd\n",
    "import numpy as np\n",
    "import string as str"
   ]
  },
  {
   "cell_type": "code",
   "execution_count": 3,
   "metadata": {},
   "outputs": [
    {
     "data": {
      "text/html": [
       "<div>\n",
       "<style scoped>\n",
       "    .dataframe tbody tr th:only-of-type {\n",
       "        vertical-align: middle;\n",
       "    }\n",
       "\n",
       "    .dataframe tbody tr th {\n",
       "        vertical-align: top;\n",
       "    }\n",
       "\n",
       "    .dataframe thead th {\n",
       "        text-align: right;\n",
       "    }\n",
       "</style>\n",
       "<table border=\"1\" class=\"dataframe\">\n",
       "  <thead>\n",
       "    <tr style=\"text-align: right;\">\n",
       "      <th></th>\n",
       "      <th>id</th>\n",
       "      <th>text</th>\n",
       "      <th>user_name</th>\n",
       "      <th>date</th>\n",
       "      <th>lat</th>\n",
       "      <th>long</th>\n",
       "    </tr>\n",
       "  </thead>\n",
       "  <tbody>\n",
       "    <tr>\n",
       "      <th>19995</th>\n",
       "      <td>1215422968068804608</td>\n",
       "      <td>El egg team</td>\n",
       "      <td>Cristianeevee</td>\n",
       "      <td>2020-01-09 23:59:51+00:00</td>\n",
       "      <td>38.047041</td>\n",
       "      <td>-117.577809</td>\n",
       "    </tr>\n",
       "    <tr>\n",
       "      <th>19996</th>\n",
       "      <td>1215422968060239872</td>\n",
       "      <td>アルバハ15分切りたいからアンチラ抜くか</td>\n",
       "      <td>simuka26</td>\n",
       "      <td>2020-01-09 23:59:51+00:00</td>\n",
       "      <td>38.581224</td>\n",
       "      <td>-118.555505</td>\n",
       "    </tr>\n",
       "    <tr>\n",
       "      <th>19997</th>\n",
       "      <td>1215422968056229888</td>\n",
       "      <td>Vai direto para a segunda ela tá bem melhor</td>\n",
       "      <td>TalaskaLuis</td>\n",
       "      <td>2020-01-09 23:59:51+00:00</td>\n",
       "      <td>35.169026</td>\n",
       "      <td>-120.304997</td>\n",
       "    </tr>\n",
       "    <tr>\n",
       "      <th>19998</th>\n",
       "      <td>1215422968051982337</td>\n",
       "      <td>In a related matter, Senator, would you ask an...</td>\n",
       "      <td>DennisDonohue9</td>\n",
       "      <td>2020-01-09 23:59:51+00:00</td>\n",
       "      <td>37.191219</td>\n",
       "      <td>-117.377164</td>\n",
       "    </tr>\n",
       "    <tr>\n",
       "      <th>19999</th>\n",
       "      <td>1215422968051924992</td>\n",
       "      <td>cuando valla correr monten esta ves a emisael ...</td>\n",
       "      <td>willi1569</td>\n",
       "      <td>2020-01-09 23:59:51+00:00</td>\n",
       "      <td>38.519796</td>\n",
       "      <td>-119.943140</td>\n",
       "    </tr>\n",
       "  </tbody>\n",
       "</table>\n",
       "</div>"
      ],
      "text/plain": [
       "                        id                                               text  \\\n",
       "19995  1215422968068804608                                        El egg team   \n",
       "19996  1215422968060239872                               アルバハ15分切りたいからアンチラ抜くか   \n",
       "19997  1215422968056229888        Vai direto para a segunda ela tá bem melhor   \n",
       "19998  1215422968051982337  In a related matter, Senator, would you ask an...   \n",
       "19999  1215422968051924992  cuando valla correr monten esta ves a emisael ...   \n",
       "\n",
       "            user_name                       date        lat        long  \n",
       "19995   Cristianeevee  2020-01-09 23:59:51+00:00  38.047041 -117.577809  \n",
       "19996        simuka26  2020-01-09 23:59:51+00:00  38.581224 -118.555505  \n",
       "19997     TalaskaLuis  2020-01-09 23:59:51+00:00  35.169026 -120.304997  \n",
       "19998  DennisDonohue9  2020-01-09 23:59:51+00:00  37.191219 -117.377164  \n",
       "19999       willi1569  2020-01-09 23:59:51+00:00  38.519796 -119.943140  "
      ]
     },
     "execution_count": 3,
     "metadata": {},
     "output_type": "execute_result"
    }
   ],
   "source": [
    "\n",
    "df = pd.read_csv('../data/final.csv')\n",
    "\n",
    "df.tail()"
   ]
  },
  {
   "cell_type": "code",
   "execution_count": 4,
   "metadata": {},
   "outputs": [
    {
     "data": {
      "text/plain": [
       "id             0\n",
       "text         232\n",
       "user_name      0\n",
       "date           0\n",
       "lat            0\n",
       "long           0\n",
       "dtype: int64"
      ]
     },
     "execution_count": 4,
     "metadata": {},
     "output_type": "execute_result"
    }
   ],
   "source": [
    "df.isnull().sum()"
   ]
  },
  {
   "cell_type": "code",
   "execution_count": 5,
   "metadata": {},
   "outputs": [
    {
     "data": {
      "text/plain": [
       "(19768, 6)"
      ]
     },
     "execution_count": 5,
     "metadata": {},
     "output_type": "execute_result"
    }
   ],
   "source": [
    "# drop any rows without text\n",
    "\n",
    "df.dropna(axis = 0, inplace = True)\n",
    "\n",
    "# check if dropped as intended (20_000 - 232 = 10768)\n",
    "\n",
    "df.shape"
   ]
  },
  {
   "cell_type": "code",
   "execution_count": 7,
   "metadata": {},
   "outputs": [],
   "source": [
    "df.to_csv('../data/cleaned.csv', index = False)"
   ]
  },
  {
   "cell_type": "code",
   "execution_count": null,
   "metadata": {},
   "outputs": [],
   "source": []
  }
 ],
 "metadata": {
  "kernelspec": {
   "display_name": "Python 3",
   "language": "python",
   "name": "python3"
  },
  "language_info": {
   "codemirror_mode": {
    "name": "ipython",
    "version": 3
   },
   "file_extension": ".py",
   "mimetype": "text/x-python",
   "name": "python",
   "nbconvert_exporter": "python",
   "pygments_lexer": "ipython3",
   "version": "3.7.7"
  }
 },
 "nbformat": 4,
 "nbformat_minor": 4
}
