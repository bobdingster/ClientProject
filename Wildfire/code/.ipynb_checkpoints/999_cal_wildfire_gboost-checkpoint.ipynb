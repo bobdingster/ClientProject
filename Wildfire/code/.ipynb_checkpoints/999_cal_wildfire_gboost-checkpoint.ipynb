{
 "cells": [
  {
   "cell_type": "markdown",
   "metadata": {},
   "source": [
    "## Summary\n",
    "\n",
    "**One dataset is scrapped from twitter search keyword \"wildfire\"  in california. labeled as 1\n",
    "The other dataset is scrapped from twitter without keyword  in california. labeled as 0\n",
    "Each dataset has 10,000 records. "
   ]
  },
  {
   "cell_type": "markdown",
   "metadata": {},
   "source": [
    "##  Import Libraries"
   ]
  },
  {
   "cell_type": "code",
   "execution_count": 1,
   "metadata": {},
   "outputs": [],
   "source": [
    "import pandas as pd\n",
    "import numpy as np\n",
    "import seaborn as sns\n",
    "import matplotlib.pyplot as plt\n",
    "import time\n",
    "\n",
    "from sklearn.model_selection import train_test_split, GridSearchCV\n",
    "from sklearn.pipeline import Pipeline\n",
    "from sklearn.metrics import recall_score,plot_confusion_matrix,roc_auc_score,roc_curve, confusion_matrix\n",
    "from sklearn.ensemble import GradientBoostingClassifier\n",
    "\n",
    "# Import CountVectorizer and TFIDFVectorizer from feature_extraction.text.\n",
    "from sklearn.feature_extraction.text import CountVectorizer, TfidfVectorizer\n",
    "from nltk.corpus import stopwords\n",
    "\n",
    "%matplotlib inline"
   ]
  },
  {
   "cell_type": "markdown",
   "metadata": {},
   "source": [
    "## Data Cleaning and EDA"
   ]
  },
  {
   "cell_type": "markdown",
   "metadata": {},
   "source": [
    "### 3.1 Read in twitter post data from file saved in  the previous section."
   ]
  },
  {
   "cell_type": "code",
   "execution_count": 2,
   "metadata": {},
   "outputs": [],
   "source": [
    "df1 = pd.read_csv('cal_wildfire.csv')\n",
    "df2 = pd.read_csv('no_wildfire.csv')"
   ]
  },
  {
   "cell_type": "code",
   "execution_count": 3,
   "metadata": {},
   "outputs": [
    {
     "data": {
      "text/plain": [
       "((10000, 4), (10000, 4))"
      ]
     },
     "execution_count": 3,
     "metadata": {},
     "output_type": "execute_result"
    }
   ],
   "source": [
    "df1.shape, df2.shape"
   ]
  },
  {
   "cell_type": "markdown",
   "metadata": {},
   "source": [
    "**Get rid of text, less than 3 words long**"
   ]
  },
  {
   "cell_type": "code",
   "execution_count": 4,
   "metadata": {},
   "outputs": [],
   "source": [
    "df1 = df1[df1['text'].str.split().str.len().gt(3)]"
   ]
  },
  {
   "cell_type": "code",
   "execution_count": 5,
   "metadata": {},
   "outputs": [],
   "source": [
    "df2 = df2[df2['text'].str.split().str.len().gt(3)]"
   ]
  },
  {
   "cell_type": "code",
   "execution_count": 6,
   "metadata": {},
   "outputs": [
    {
     "data": {
      "text/plain": [
       "((9906, 4), (7624, 4))"
      ]
     },
     "execution_count": 6,
     "metadata": {},
     "output_type": "execute_result"
    }
   ],
   "source": [
    "df1.shape, df2.shape"
   ]
  },
  {
   "cell_type": "code",
   "execution_count": 7,
   "metadata": {},
   "outputs": [],
   "source": [
    "df1['label']= 1\n",
    "df2['label']= 0\n",
    "df = pd.concat([df1, df2]).drop(columns=['geo', 'hashtags'])"
   ]
  },
  {
   "cell_type": "code",
   "execution_count": 8,
   "metadata": {},
   "outputs": [],
   "source": [
    "df = df.drop_duplicates('text')"
   ]
  },
  {
   "cell_type": "code",
   "execution_count": 9,
   "metadata": {},
   "outputs": [],
   "source": [
    "df.reset_index(inplace=True, drop=True)"
   ]
  },
  {
   "cell_type": "code",
   "execution_count": 10,
   "metadata": {
    "scrolled": true
   },
   "outputs": [
    {
     "data": {
      "text/html": [
       "<div>\n",
       "<style scoped>\n",
       "    .dataframe tbody tr th:only-of-type {\n",
       "        vertical-align: middle;\n",
       "    }\n",
       "\n",
       "    .dataframe tbody tr th {\n",
       "        vertical-align: top;\n",
       "    }\n",
       "\n",
       "    .dataframe thead th {\n",
       "        text-align: right;\n",
       "    }\n",
       "</style>\n",
       "<table border=\"1\" class=\"dataframe\">\n",
       "  <thead>\n",
       "    <tr style=\"text-align: right;\">\n",
       "      <th></th>\n",
       "      <th>date</th>\n",
       "      <th>text</th>\n",
       "      <th>label</th>\n",
       "    </tr>\n",
       "  </thead>\n",
       "  <tbody>\n",
       "    <tr>\n",
       "      <th>0</th>\n",
       "      <td>2020-09-09 23:59:26+00:00</td>\n",
       "      <td>Scenes from around Santa Cruz as a smoke-fille...</td>\n",
       "      <td>1</td>\n",
       "    </tr>\n",
       "    <tr>\n",
       "      <th>1</th>\n",
       "      <td>2020-09-09 23:59:15+00:00</td>\n",
       "      <td>The New York Times BREAKING NEWS September 9, ...</td>\n",
       "      <td>1</td>\n",
       "    </tr>\n",
       "    <tr>\n",
       "      <th>2</th>\n",
       "      <td>2020-09-09 23:59:15+00:00</td>\n",
       "      <td>A couple years ago during the wildfires we bou...</td>\n",
       "      <td>1</td>\n",
       "    </tr>\n",
       "    <tr>\n",
       "      <th>3</th>\n",
       "      <td>2020-09-09 23:58:52+00:00</td>\n",
       "      <td>CA wildfire update: Bear Fire prompts Butte, Y...</td>\n",
       "      <td>1</td>\n",
       "    </tr>\n",
       "    <tr>\n",
       "      <th>4</th>\n",
       "      <td>2020-09-09 23:58:22+00:00</td>\n",
       "      <td>Signs of a forgotten civilization after the ap...</td>\n",
       "      <td>1</td>\n",
       "    </tr>\n",
       "  </tbody>\n",
       "</table>\n",
       "</div>"
      ],
      "text/plain": [
       "                        date  \\\n",
       "0  2020-09-09 23:59:26+00:00   \n",
       "1  2020-09-09 23:59:15+00:00   \n",
       "2  2020-09-09 23:59:15+00:00   \n",
       "3  2020-09-09 23:58:52+00:00   \n",
       "4  2020-09-09 23:58:22+00:00   \n",
       "\n",
       "                                                text  label  \n",
       "0  Scenes from around Santa Cruz as a smoke-fille...      1  \n",
       "1  The New York Times BREAKING NEWS September 9, ...      1  \n",
       "2  A couple years ago during the wildfires we bou...      1  \n",
       "3  CA wildfire update: Bear Fire prompts Butte, Y...      1  \n",
       "4  Signs of a forgotten civilization after the ap...      1  "
      ]
     },
     "execution_count": 10,
     "metadata": {},
     "output_type": "execute_result"
    }
   ],
   "source": [
    "df.head()"
   ]
  },
  {
   "cell_type": "markdown",
   "metadata": {},
   "source": [
    "**Instantiate a CountVectorizer use standard 'english' and some extra selected stop words.**"
   ]
  },
  {
   "cell_type": "code",
   "execution_count": 11,
   "metadata": {},
   "outputs": [],
   "source": [
    "X = df['text']\n",
    "stop_words = stopwords.words('english')\n",
    "extra_stop = ['california', 'https', 'com', 'www', 'amp', 'like', \n",
    "              'ca','instagram', 'igshid', '2020', 'http', 'san', 'today', 'get', 'people', 'us']\n",
    "# stop_words_sp = stopwords.words('spanish')\n",
    "stop_words.extend(extra_stop)\n",
    "cvec = CountVectorizer()    \n",
    "cvec = CountVectorizer(stop_words=stop_words) \n",
    "\n",
    "# Fit the vectorizer on reddit titles-- X data.\n",
    "cvec.fit(X)\n",
    "# Transform the corpus.\n",
    "X_temp = cvec.transform(X)"
   ]
  },
  {
   "cell_type": "markdown",
   "metadata": {},
   "source": [
    "**Convert vectorized numeric data into a pandas DataFrame.Each column is one words**"
   ]
  },
  {
   "cell_type": "code",
   "execution_count": 12,
   "metadata": {},
   "outputs": [
    {
     "data": {
      "text/plain": [
       "(17286, 33315)"
      ]
     },
     "execution_count": 12,
     "metadata": {},
     "output_type": "execute_result"
    }
   ],
   "source": [
    "X_df = pd.DataFrame(X_temp.toarray(),columns=cvec.get_feature_names())\n",
    "X_df.shape"
   ]
  },
  {
   "cell_type": "markdown",
   "metadata": {},
   "source": [
    "**Find count of top-occurring words from total of over 17000 words**"
   ]
  },
  {
   "cell_type": "code",
   "execution_count": 13,
   "metadata": {},
   "outputs": [],
   "source": [
    "# empty dictionary\n",
    "top_words = {}\n",
    "\n",
    "# loop through columns\n",
    "for i in X_df.columns:\n",
    "    # save sum of each column in dictionary\n",
    "    top_words[i] =  X_df[i].sum()\n",
    "    \n",
    "# top_words to dataframe sorted by highest occurance\n",
    "most_freq = pd.DataFrame(sorted(top_words.items(), key = lambda x: x[1], reverse = True))"
   ]
  },
  {
   "cell_type": "code",
   "execution_count": 14,
   "metadata": {},
   "outputs": [
    {
     "data": {
      "text/plain": [
       "0     wildfires\n",
       "1      wildfire\n",
       "2         smoke\n",
       "3          fire\n",
       "4           air\n",
       "5           one\n",
       "6          area\n",
       "7          time\n",
       "8         state\n",
       "9           bay\n",
       "10          day\n",
       "11          new\n",
       "12         know\n",
       "13         year\n",
       "14           go\n",
       "15         need\n",
       "16          see\n",
       "17         good\n",
       "18        fires\n",
       "19        still\n",
       "20      climate\n",
       "21          due\n",
       "22         heat\n",
       "23       gender\n",
       "24        right\n",
       "25         news\n",
       "26        power\n",
       "27        would\n",
       "28          sky\n",
       "29         back\n",
       "Name: 0, dtype: object"
      ]
     },
     "execution_count": 14,
     "metadata": {},
     "output_type": "execute_result"
    }
   ],
   "source": [
    "most_freq[0][:30]"
   ]
  },
  {
   "cell_type": "markdown",
   "metadata": {},
   "source": [
    "**Plot out top 30 occurring words**"
   ]
  },
  {
   "cell_type": "code",
   "execution_count": 15,
   "metadata": {
    "scrolled": false
   },
   "outputs": [
    {
     "data": {
      "image/png": "[encoded data removed]",
      "text/plain": [
       "<Figure size 432x864 with 1 Axes>"
      ]
     },
     "metadata": {
      "needs_background": "light"
     },
     "output_type": "display_data"
    }
   ],
   "source": [
    "plt.figure(figsize = (6, 12))\n",
    "\n",
    "# visualize top 10 or 30 words\n",
    "plt.barh(most_freq[0][:30], most_freq[1][:30])\n",
    "plt.title('Top 30 words with english and textra stop_words')\n",
    "plt.gca().invert_yaxis();"
   ]
  },
  {
   "cell_type": "markdown",
   "metadata": {},
   "source": [
    "## 4. Modeling by Using  TfidfVectorizer and GradientBoostingClassifier\n",
    "\n",
    "We will test many combinations of different hyperparameters.\n",
    "\n",
    "**Setup features and target: <br>\n",
    "X (features) will be the `text` column. y (target) will be the `label` column.<br> \n",
    "Traing testing split as 75% and 25%**"
   ]
  },
  {
   "cell_type": "code",
   "execution_count": 16,
   "metadata": {},
   "outputs": [],
   "source": [
    "X = df['text']\n",
    "y = df['label']\n",
    "\n",
    "X_train, X_test, y_train, y_test = train_test_split(X,\n",
    "                                                    y,\n",
    "                                                    test_size=0.25,\n",
    "                                                    stratify=y,\n",
    "                                                    random_state=42)"
   ]
  },
  {
   "cell_type": "markdown",
   "metadata": {},
   "source": [
    "**Baseline accuracy. Calculate baseline accuracy in order to\n",
    "tell if our model is better than null model.**"
   ]
  },
  {
   "cell_type": "code",
   "execution_count": 17,
   "metadata": {},
   "outputs": [
    {
     "data": {
      "text/plain": [
       "1    0.560157\n",
       "0    0.439843\n",
       "Name: label, dtype: float64"
      ]
     },
     "execution_count": 17,
     "metadata": {},
     "output_type": "execute_result"
    }
   ],
   "source": [
    "y_test.value_counts(normalize=True)"
   ]
  },
  {
   "cell_type": "code",
   "execution_count": 18,
   "metadata": {
    "scrolled": false
   },
   "outputs": [
    {
     "name": "stdout",
     "output_type": "stream",
     "text": [
      "Fitting 5 folds for each of 1 candidates, totalling 5 fits\n"
     ]
    },
    {
     "name": "stderr",
     "output_type": "stream",
     "text": [
      "[Parallel(n_jobs=1)]: Using backend SequentialBackend with 1 concurrent workers.\n",
      "[Parallel(n_jobs=1)]: Done   5 out of   5 | elapsed:   17.0s finished\n"
     ]
    },
    {
     "name": "stdout",
     "output_type": "stream",
     "text": [
      "best training score: 0.9968373958654736\n",
      "best training recall: 0.9943541724042964\n",
      "best testing score: 0.996298010180472\n",
      "This took 21.86237907409668 seconds!\n"
     ]
    }
   ],
   "source": [
    "# GradientBoost Model\n",
    "\n",
    "model_pipeline = Pipeline([\n",
    "    (\"vec\", TfidfVectorizer()),\n",
    "    (\"gb\", GradientBoostingClassifier(random_state=42))\n",
    "])\n",
    "\n",
    "#the pipe params are a dict that the user enters into the function\n",
    "model_pipe_params = {\n",
    "    \"gb__learning_rate\" : [.05],\n",
    "    \"gb__n_estimators\" : [100],\n",
    "    \"gb__min_samples_leaf\" : [4],\n",
    "    \"gb__max_depth\" : [4],\n",
    "    'vec__max_features': [3000],\n",
    "    'vec__min_df': [2],\n",
    "    'vec__max_df': [.85],\n",
    "    'vec__ngram_range': [(1,1)],\n",
    "    'vec__stop_words': [stop_words]\n",
    "}\n",
    "\n",
    "#start a timer\n",
    "t0 = time.time()\n",
    "\n",
    "gb_gs = GridSearchCV(model_pipeline,param_grid=model_pipe_params,cv=5,verbose=1)\n",
    "\n",
    "#fit the data\n",
    "gb_gs.fit(X_train,y_train)\n",
    "\n",
    "#save the best estimator\n",
    "best_gb = gb_gs.best_estimator_\n",
    "\n",
    "\n",
    "print(f'best training score: {best_gb.score(X_train, y_train)}')\n",
    "preds = best_gb.predict(X_train)\n",
    "print(f'best training recall: {recall_score(y_train,preds)}')\n",
    "print(f'best testing score: {best_gb.score(X_test, y_test)}')\n",
    "\n",
    "\n",
    "t1 = time.time()\n",
    "print(f'This took {t1-t0} seconds!')\n"
   ]
  },
  {
   "cell_type": "markdown",
   "metadata": {},
   "source": [
    "## 5.  Predictions and Inference\n",
    "**Instantiate a Logistic Regression model by using the last fit from previous section**"
   ]
  },
  {
   "cell_type": "markdown",
   "metadata": {},
   "source": [
    "### 5.1 Get predictions"
   ]
  },
  {
   "cell_type": "code",
   "execution_count": 19,
   "metadata": {
    "scrolled": true
   },
   "outputs": [
    {
     "name": "stdout",
     "output_type": "stream",
     "text": [
      "Accuracy: 0.996298010180472\n",
      "Specificity: 1.0\n",
      "Sensitivity: 0.9933911606774061\n"
     ]
    }
   ],
   "source": [
    "predictions = best_gb.predict(X_test)\n",
    "\n",
    "# Save confusion matrix values\n",
    "tn, fp, fn, tp = confusion_matrix(y_test, predictions).ravel()\n",
    "# Calculate the specificity\n",
    "\n",
    "spec = tn / (tn + fp)\n",
    "sens = tp /(tp + fn)\n",
    "acc = (tp + tn)/(tn + fp + fn + tp)\n",
    "prec = \n",
    "\n",
    "print('Accuracy:', acc)\n",
    "print('Specificity:', spec)\n",
    "print('Sensitivity:', sens)\n",
    "Print('Precision', prec)"
   ]
  },
  {
   "cell_type": "markdown",
   "metadata": {},
   "source": [
    "**View confusion matrix and find accuracies**"
   ]
  },
  {
   "cell_type": "code",
   "execution_count": 20,
   "metadata": {
    "scrolled": true
   },
   "outputs": [
    {
     "data": {
      "image/png": "[encoded data removed]",
      "text/plain": [
       "<Figure size 432x288 with 2 Axes>"
      ]
     },
     "metadata": {
      "needs_background": "light"
     },
     "output_type": "display_data"
    }
   ],
   "source": [
    "plot_confusion_matrix(best_gb, X_test, y_test, cmap='Greens', values_format='d');"
   ]
  },
  {
   "cell_type": "code",
   "execution_count": 21,
   "metadata": {
    "scrolled": false
   },
   "outputs": [
    {
     "name": "stdout",
     "output_type": "stream",
     "text": [
      "Best predicted probabilities:\n",
      " [[0.00519435 0.99480565]\n",
      " [0.0062908  0.9937092 ]\n",
      " [0.0062908  0.9937092 ]\n",
      " [0.98712278 0.01287722]\n",
      " [0.98712278 0.01287722]]\n"
     ]
    }
   ],
   "source": [
    "print(f'Best predicted probabilities:\\n {best_gb.predict_proba(X_train[:5])}')"
   ]
  },
  {
   "cell_type": "code",
   "execution_count": 22,
   "metadata": {},
   "outputs": [],
   "source": [
    "# Creating a DataFrame of Predicted Probabilities\n",
    "pred_proba = [i[1] for i in best_gb.predict_proba(X_test)]\n",
    "\n",
    "pred_df = pd.DataFrame({'true_values': y_test,\n",
    "                        'pred_probs':pred_proba})"
   ]
  },
  {
   "cell_type": "markdown",
   "metadata": {},
   "source": [
    "**Create figure to display the predicted probabilities from the posts that were classified at Chinese Food (Outcome 1)  vs Mexican Food (Outcome 0).**"
   ]
  },
  {
   "cell_type": "code",
   "execution_count": 23,
   "metadata": {
    "scrolled": false
   },
   "outputs": [
    {
     "data": {
      "image/png": "[encoded data removed]",
      "text/plain": [
       "<Figure size 720x576 with 1 Axes>"
      ]
     },
     "metadata": {
      "needs_background": "light"
     },
     "output_type": "display_data"
    }
   ],
   "source": [
    "plt.figure(figsize = (10,8))\n",
    "\n",
    "# Create two histograms of observations.\n",
    "plt.hist(pred_df[pred_df['true_values'] == 0]['pred_probs'],\n",
    "         bins=20,\n",
    "         color='green',\n",
    "         alpha = 0.7,\n",
    "         label='Outcome = 0 (No_fire_posts)')\n",
    "plt.hist(pred_df[pred_df['true_values'] == 1]['pred_probs'],\n",
    "         bins=20,\n",
    "         color='red',\n",
    "         alpha = 0.7,\n",
    "         label='Outcome = 1 (Fire_posts)')\n",
    "\n",
    "# Label axes.\n",
    "plt.title('Distribution of P(Outcomes)', fontsize=22)\n",
    "plt.ylabel('Frequency', fontsize=18)\n",
    "plt.xlabel('Predicted Probability that Outcome = 1', fontsize=18)\n",
    "plt.vlines(x=0.5,\n",
    "           ymin = 0,\n",
    "           ymax = 110,\n",
    "           color='purple',\n",
    "           linestyle = '--')\n",
    "\n",
    "# Create legend.\n",
    "plt.legend(fontsize=10);"
   ]
  },
  {
   "cell_type": "code",
   "execution_count": 24,
   "metadata": {},
   "outputs": [
    {
     "data": {
      "image/png": "[encoded data removed]",
      "text/plain": [
       "<Figure size 576x432 with 1 Axes>"
      ]
     },
     "metadata": {
      "needs_background": "light"
     },
     "output_type": "display_data"
    }
   ],
   "source": [
    "# Adapted from \"https://stackoverflow.com/questions/25009284/how-to-plot-roc-curve-in-python\"\n",
    "fpr, tpr, _ = roc_curve(pred_df['true_values'], pred_df['pred_probs'])\n",
    "auc = roc_auc_score(pred_df['true_values'], pred_df['pred_probs'])\n",
    "plt.figure(figsize=(8,6))\n",
    "plt.plot(fpr,tpr,label=\"Post Prediction Data\\nauc=\"+str(auc), color='purple')\n",
    "plt.title('ROC_AUC Curve')\n",
    "plt.legend(loc=4)\n",
    "plt.show()"
   ]
  },
  {
   "cell_type": "markdown",
   "metadata": {},
   "source": [
    "#### Take a look at the effect of each beta/coefficient from  logistric regression."
   ]
  },
  {
   "cell_type": "markdown",
   "metadata": {},
   "source": [
    "#### Examine the posts that were misclassified"
   ]
  },
  {
   "cell_type": "code",
   "execution_count": 25,
   "metadata": {},
   "outputs": [],
   "source": [
    "confusion = pd.DataFrame({'actual': y_test, 'predicted': best_gb.predict(X_test)})"
   ]
  },
  {
   "cell_type": "code",
   "execution_count": 26,
   "metadata": {},
   "outputs": [
    {
     "data": {
      "text/plain": [
       "(16, 2)"
      ]
     },
     "execution_count": 26,
     "metadata": {},
     "output_type": "execute_result"
    }
   ],
   "source": [
    "mis_classified = confusion[confusion['actual'] != confusion['predicted']]\n",
    "mis_classified.shape"
   ]
  },
  {
   "cell_type": "code",
   "execution_count": 27,
   "metadata": {},
   "outputs": [
    {
     "name": "stderr",
     "output_type": "stream",
     "text": [
      "/opt/anaconda3/envs/dsi/lib/python3.7/site-packages/ipykernel_launcher.py:1: SettingWithCopyWarning: \n",
      "A value is trying to be set on a copy of a slice from a DataFrame.\n",
      "Try using .loc[row_indexer,col_indexer] = value instead\n",
      "\n",
      "See the caveats in the documentation: https://pandas.pydata.org/pandas-docs/stable/user_guide/indexing.html#returning-a-view-versus-a-copy\n",
      "  \"\"\"Entry point for launching an IPython kernel.\n"
     ]
    }
   ],
   "source": [
    "mis_classified['text'] = df['text']"
   ]
  },
  {
   "cell_type": "code",
   "execution_count": 28,
   "metadata": {},
   "outputs": [
    {
     "data": {
      "text/html": [
       "<div>\n",
       "<style scoped>\n",
       "    .dataframe tbody tr th:only-of-type {\n",
       "        vertical-align: middle;\n",
       "    }\n",
       "\n",
       "    .dataframe tbody tr th {\n",
       "        vertical-align: top;\n",
       "    }\n",
       "\n",
       "    .dataframe thead th {\n",
       "        text-align: right;\n",
       "    }\n",
       "</style>\n",
       "<table border=\"1\" class=\"dataframe\">\n",
       "  <thead>\n",
       "    <tr style=\"text-align: right;\">\n",
       "      <th></th>\n",
       "      <th>actual</th>\n",
       "      <th>predicted</th>\n",
       "      <th>text</th>\n",
       "    </tr>\n",
       "  </thead>\n",
       "  <tbody>\n",
       "    <tr>\n",
       "      <th>7548</th>\n",
       "      <td>1</td>\n",
       "      <td>0</td>\n",
       "      <td>\"#California_wildfires continue burning as gov...</td>\n",
       "    </tr>\n",
       "    <tr>\n",
       "      <th>8810</th>\n",
       "      <td>1</td>\n",
       "      <td>0</td>\n",
       "      <td>Trying to get through Fall semester!</td>\n",
       "    </tr>\n",
       "    <tr>\n",
       "      <th>8899</th>\n",
       "      <td>1</td>\n",
       "      <td>0</td>\n",
       "      <td>I'm tired of dudes playing #WhickedGames with ...</td>\n",
       "    </tr>\n",
       "    <tr>\n",
       "      <th>8852</th>\n",
       "      <td>1</td>\n",
       "      <td>0</td>\n",
       "      <td>There's always tax involved , lol! I know. I'm...</td>\n",
       "    </tr>\n",
       "    <tr>\n",
       "      <th>8890</th>\n",
       "      <td>1</td>\n",
       "      <td>0</td>\n",
       "      <td>How it feels when CVS cashier asks would you l...</td>\n",
       "    </tr>\n",
       "    <tr>\n",
       "      <th>8666</th>\n",
       "      <td>1</td>\n",
       "      <td>0</td>\n",
       "      <td>Every dang time! @Starbucks, You would think s...</td>\n",
       "    </tr>\n",
       "    <tr>\n",
       "      <th>8867</th>\n",
       "      <td>1</td>\n",
       "      <td>0</td>\n",
       "      <td>The Faithful are bringing home the #BudLightCe...</td>\n",
       "    </tr>\n",
       "    <tr>\n",
       "      <th>8874</th>\n",
       "      <td>1</td>\n",
       "      <td>0</td>\n",
       "      <td>\"Surfboard, surfboard Grainin' on that wood, g...</td>\n",
       "    </tr>\n",
       "    <tr>\n",
       "      <th>8113</th>\n",
       "      <td>1</td>\n",
       "      <td>0</td>\n",
       "      <td>Gotta love mother nature!</td>\n",
       "    </tr>\n",
       "    <tr>\n",
       "      <th>8879</th>\n",
       "      <td>1</td>\n",
       "      <td>0</td>\n",
       "      <td>I love my job !</td>\n",
       "    </tr>\n",
       "    <tr>\n",
       "      <th>5127</th>\n",
       "      <td>1</td>\n",
       "      <td>0</td>\n",
       "      <td>Very lovely lady: he’s never met a deathclaw w...</td>\n",
       "    </tr>\n",
       "    <tr>\n",
       "      <th>7938</th>\n",
       "      <td>1</td>\n",
       "      <td>0</td>\n",
       "      <td>I was hoping 106 as on the list to be upgraded...</td>\n",
       "    </tr>\n",
       "    <tr>\n",
       "      <th>8841</th>\n",
       "      <td>1</td>\n",
       "      <td>0</td>\n",
       "      <td>I'm over football too! I am not looking forwar...</td>\n",
       "    </tr>\n",
       "    <tr>\n",
       "      <th>8880</th>\n",
       "      <td>1</td>\n",
       "      <td>0</td>\n",
       "      <td>Let's Go Fresno State #Bulldogs! – at Save Mar...</td>\n",
       "    </tr>\n",
       "    <tr>\n",
       "      <th>8895</th>\n",
       "      <td>1</td>\n",
       "      <td>0</td>\n",
       "      <td>I love me some @E40 #Respect #FeelGoodFriday</td>\n",
       "    </tr>\n",
       "    <tr>\n",
       "      <th>8908</th>\n",
       "      <td>1</td>\n",
       "      <td>0</td>\n",
       "      <td>I love to watch the leaves gracefully fall fro...</td>\n",
       "    </tr>\n",
       "  </tbody>\n",
       "</table>\n",
       "</div>"
      ],
      "text/plain": [
       "      actual  predicted                                               text\n",
       "7548       1          0  \"#California_wildfires continue burning as gov...\n",
       "8810       1          0               Trying to get through Fall semester!\n",
       "8899       1          0  I'm tired of dudes playing #WhickedGames with ...\n",
       "8852       1          0  There's always tax involved , lol! I know. I'm...\n",
       "8890       1          0  How it feels when CVS cashier asks would you l...\n",
       "8666       1          0  Every dang time! @Starbucks, You would think s...\n",
       "8867       1          0  The Faithful are bringing home the #BudLightCe...\n",
       "8874       1          0  \"Surfboard, surfboard Grainin' on that wood, g...\n",
       "8113       1          0                          Gotta love mother nature!\n",
       "8879       1          0                                    I love my job !\n",
       "5127       1          0  Very lovely lady: he’s never met a deathclaw w...\n",
       "7938       1          0  I was hoping 106 as on the list to be upgraded...\n",
       "8841       1          0  I'm over football too! I am not looking forwar...\n",
       "8880       1          0  Let's Go Fresno State #Bulldogs! – at Save Mar...\n",
       "8895       1          0       I love me some @E40 #Respect #FeelGoodFriday\n",
       "8908       1          0  I love to watch the leaves gracefully fall fro..."
      ]
     },
     "execution_count": 28,
     "metadata": {},
     "output_type": "execute_result"
    }
   ],
   "source": [
    "mis_classified"
   ]
  },
  {
   "cell_type": "markdown",
   "metadata": {},
   "source": [
    "**There are are 16 misclassified posts, accuracy more than 99%**"
   ]
  },
  {
   "cell_type": "markdown",
   "metadata": {},
   "source": []
  },
  {
   "cell_type": "code",
   "execution_count": null,
   "metadata": {},
   "outputs": [],
   "source": []
  },
  {
   "cell_type": "code",
   "execution_count": null,
   "metadata": {},
   "outputs": [],
   "source": []
  }
 ],
 "metadata": {
  "kernelspec": {
   "display_name": "Python 3",
   "language": "python",
   "name": "python3"
  },
  "language_info": {
   "codemirror_mode": {
    "name": "ipython",
    "version": 3
   },
   "file_extension": ".py",
   "mimetype": "text/x-python",
   "name": "python",
   "nbconvert_exporter": "python",
   "pygments_lexer": "ipython3",
   "version": "3.7.7"
  }
 },
 "nbformat": 4,
 "nbformat_minor": 4
}
