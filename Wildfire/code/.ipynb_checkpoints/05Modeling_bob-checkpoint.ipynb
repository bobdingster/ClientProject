{
 "cells": [
  {
   "cell_type": "code",
   "execution_count": 1,
   "metadata": {},
   "outputs": [],
   "source": [
    "# import libraries\n",
    "\n",
    "import pandas as pd\n",
    "import numpy as np\n",
    "import seaborn as sns\n",
    "import matplotlib.pyplot as plt\n",
    "from nltk.corpus import stopwords\n",
    "from sklearn.metrics import confusion_matrix, plot_confusion_matrix, accuracy_score\n",
    "from sklearn.model_selection import train_test_split, GridSearchCV, cross_val_score\n",
    "from sklearn.pipeline import Pipeline\n",
    "from sklearn.naive_bayes import MultinomialNB\n",
    "from sklearn.feature_extraction.text import CountVectorizer, TfidfVectorizer\n",
    "from sklearn.svm import SVC\n",
    "\n",
    "import warnings \n",
    "warnings.filterwarnings(\"ignore\")"
   ]
  },
  {
   "cell_type": "code",
   "execution_count": 2,
   "metadata": {},
   "outputs": [
    {
     "name": "stdout",
     "output_type": "stream",
     "text": [
      "(19768, 9)\n"
     ]
    },
    {
     "data": {
      "text/html": [
       "<div>\n",
       "<style scoped>\n",
       "    .dataframe tbody tr th:only-of-type {\n",
       "        vertical-align: middle;\n",
       "    }\n",
       "\n",
       "    .dataframe tbody tr th {\n",
       "        vertical-align: top;\n",
       "    }\n",
       "\n",
       "    .dataframe thead th {\n",
       "        text-align: right;\n",
       "    }\n",
       "</style>\n",
       "<table border=\"1\" class=\"dataframe\">\n",
       "  <thead>\n",
       "    <tr style=\"text-align: right;\">\n",
       "      <th></th>\n",
       "      <th>id</th>\n",
       "      <th>user_name</th>\n",
       "      <th>lat</th>\n",
       "      <th>long</th>\n",
       "      <th>date</th>\n",
       "      <th>text</th>\n",
       "      <th>text_clean</th>\n",
       "      <th>n_sentence</th>\n",
       "      <th>n_words</th>\n",
       "    </tr>\n",
       "  </thead>\n",
       "  <tbody>\n",
       "    <tr>\n",
       "      <th>0</th>\n",
       "      <td>1303845642016497664</td>\n",
       "      <td>maxwell18191708</td>\n",
       "      <td>35.369139</td>\n",
       "      <td>-121.033126</td>\n",
       "      <td>2020-09-09 23:59:59+00:00</td>\n",
       "      <td>Oregon governor says towns have been ‘substant...</td>\n",
       "      <td>oregon governor say town have been substantial...</td>\n",
       "      <td>1</td>\n",
       "      <td>19</td>\n",
       "    </tr>\n",
       "    <tr>\n",
       "      <th>1</th>\n",
       "      <td>1304359517552095235</td>\n",
       "      <td>JoinDeepRock</td>\n",
       "      <td>35.507931</td>\n",
       "      <td>-121.352019</td>\n",
       "      <td>2020-09-11 10:01:57+00:00</td>\n",
       "      <td>96% Overwhelmingly Positive Reviews! Grab a fr...</td>\n",
       "      <td>overwhelmingly positive review  grab a frien...</td>\n",
       "      <td>2</td>\n",
       "      <td>15</td>\n",
       "    </tr>\n",
       "    <tr>\n",
       "      <th>2</th>\n",
       "      <td>1303845637851471872</td>\n",
       "      <td>SayWHARadio</td>\n",
       "      <td>36.390380</td>\n",
       "      <td>-118.941569</td>\n",
       "      <td>2020-09-09 23:59:59+00:00</td>\n",
       "      <td>‘Catastrophic’ wildfires may be deadliest in O...</td>\n",
       "      <td>catastrophic wildfire may be deadliest in oreg...</td>\n",
       "      <td>1</td>\n",
       "      <td>11</td>\n",
       "    </tr>\n",
       "    <tr>\n",
       "      <th>3</th>\n",
       "      <td>1303845628544520193</td>\n",
       "      <td>rankstr</td>\n",
       "      <td>34.979422</td>\n",
       "      <td>-119.251991</td>\n",
       "      <td>2020-09-09 23:59:56+00:00</td>\n",
       "      <td>SFGate: Thick wildfire smoke blocks sun, turns...</td>\n",
       "      <td>sfgate  thick wildfire smoke block sun  turn b...</td>\n",
       "      <td>1</td>\n",
       "      <td>13</td>\n",
       "    </tr>\n",
       "    <tr>\n",
       "      <th>4</th>\n",
       "      <td>1303845625713188865</td>\n",
       "      <td>zach_wilk</td>\n",
       "      <td>37.455476</td>\n",
       "      <td>-121.470958</td>\n",
       "      <td>2020-09-09 23:59:56+00:00</td>\n",
       "      <td>Still having a hard time processing that I had...</td>\n",
       "      <td>still having a hard time processing that i had...</td>\n",
       "      <td>3</td>\n",
       "      <td>37</td>\n",
       "    </tr>\n",
       "  </tbody>\n",
       "</table>\n",
       "</div>"
      ],
      "text/plain": [
       "                    id        user_name        lat        long  \\\n",
       "0  1303845642016497664  maxwell18191708  35.369139 -121.033126   \n",
       "1  1304359517552095235     JoinDeepRock  35.507931 -121.352019   \n",
       "2  1303845637851471872      SayWHARadio  36.390380 -118.941569   \n",
       "3  1303845628544520193          rankstr  34.979422 -119.251991   \n",
       "4  1303845625713188865        zach_wilk  37.455476 -121.470958   \n",
       "\n",
       "                        date  \\\n",
       "0  2020-09-09 23:59:59+00:00   \n",
       "1  2020-09-11 10:01:57+00:00   \n",
       "2  2020-09-09 23:59:59+00:00   \n",
       "3  2020-09-09 23:59:56+00:00   \n",
       "4  2020-09-09 23:59:56+00:00   \n",
       "\n",
       "                                                text  \\\n",
       "0  Oregon governor says towns have been ‘substant...   \n",
       "1  96% Overwhelmingly Positive Reviews! Grab a fr...   \n",
       "2  ‘Catastrophic’ wildfires may be deadliest in O...   \n",
       "3  SFGate: Thick wildfire smoke blocks sun, turns...   \n",
       "4  Still having a hard time processing that I had...   \n",
       "\n",
       "                                          text_clean  n_sentence  n_words  \n",
       "0  oregon governor say town have been substantial...           1       19  \n",
       "1    overwhelmingly positive review  grab a frien...           2       15  \n",
       "2  catastrophic wildfire may be deadliest in oreg...           1       11  \n",
       "3  sfgate  thick wildfire smoke block sun  turn b...           1       13  \n",
       "4  still having a hard time processing that i had...           3       37  "
      ]
     },
     "execution_count": 2,
     "metadata": {},
     "output_type": "execute_result"
    }
   ],
   "source": [
    "# read in csv\n",
    "\n",
    "df = pd.read_csv('../data/final.csv')\n",
    "\n",
    "print(df.shape)\n",
    "df.head()"
   ]
  },
  {
   "cell_type": "code",
   "execution_count": 3,
   "metadata": {},
   "outputs": [
    {
     "data": {
      "text/plain": [
       "id              0\n",
       "user_name       0\n",
       "lat             0\n",
       "long            0\n",
       "date            0\n",
       "text            0\n",
       "text_clean    625\n",
       "n_sentence      0\n",
       "n_words         0\n",
       "dtype: int64"
      ]
     },
     "execution_count": 3,
     "metadata": {},
     "output_type": "execute_result"
    }
   ],
   "source": [
    "# check null values\n",
    "\n",
    "df.isnull().sum()"
   ]
  },
  {
   "cell_type": "code",
   "execution_count": 4,
   "metadata": {},
   "outputs": [],
   "source": [
    "# about 3 percent of cleaned text are missing\n",
    "# it could be due to non-english tweets that I did not know how to process in cleaning stage \n",
    "# will drop these rows\n",
    "\n",
    "df.dropna(axis = 0, inplace = True)"
   ]
  },
  {
   "cell_type": "code",
   "execution_count": 5,
   "metadata": {},
   "outputs": [],
   "source": [
    "## make your own relevant words here\n",
    "# make a list of words that would automatically tag a word as relevant\n",
    "\n",
    "relevant_words = ['wildfire', 'wildfires', 'power', 'electricity', 'damage', 'tremor', 'wobble', 'quake', 'quakes',\n",
    "                  'collapse', 'tremble', 'rescue', 'seism', 'seismic', 'seismograph', 'shock', 'shocks', 'shake',\n",
    "                  'seismology', 'aftershock', 'aftershocks', 'magnitude', 'epicenter', 'fall', 'fell', 'falls',\n",
    "                  'tremors', 'trembles', 'shock wave', 'richter', 'richter scale', 'jolt', 'tragedy', 'tremblor',\n",
    "                  'shock waves', 'tremors', 'damages', 'sismo', 'disaster', 'tsunami']"
   ]
  },
  {
   "cell_type": "code",
   "execution_count": 6,
   "metadata": {},
   "outputs": [],
   "source": [
    "# create a function to create a list of 1s and 0s\n",
    "\n",
    "def create_target(column):    \n",
    "    \n",
    "    labels = []\n",
    "    \n",
    "    # separate each row\n",
    "    for text in column:\n",
    "        \n",
    "        # initiate 0 as label\n",
    "        label = 0\n",
    "        \n",
    "        # iterate through words in relevant_words\n",
    "        for relevant_word in relevant_words:\n",
    "            \n",
    "            # if relevant_word is found in text, assign 1 as label\n",
    "            # stop comparing once assigned as 1, then append it to the list\n",
    "            if relevant_word in text:\n",
    "                label = 1\n",
    "                break\n",
    "        labels.append(label)\n",
    "        \n",
    "    return labels"
   ]
  },
  {
   "cell_type": "code",
   "execution_count": 7,
   "metadata": {},
   "outputs": [
    {
     "data": {
      "text/plain": [
       "0.49809329781121037"
      ]
     },
     "execution_count": 7,
     "metadata": {},
     "output_type": "execute_result"
    }
   ],
   "source": [
    "# check if the label is created as expected (if about 50%, then it's good!)\n",
    "\n",
    "np.mean(create_target(df['text_clean']))"
   ]
  },
  {
   "cell_type": "code",
   "execution_count": 8,
   "metadata": {},
   "outputs": [],
   "source": [
    "# assign a column in the dataframe to capture this information\n",
    "\n",
    "df['label'] = create_target(df['text_clean'])"
   ]
  },
  {
   "cell_type": "code",
   "execution_count": 9,
   "metadata": {},
   "outputs": [
    {
     "data": {
      "text/html": [
       "<div>\n",
       "<style scoped>\n",
       "    .dataframe tbody tr th:only-of-type {\n",
       "        vertical-align: middle;\n",
       "    }\n",
       "\n",
       "    .dataframe tbody tr th {\n",
       "        vertical-align: top;\n",
       "    }\n",
       "\n",
       "    .dataframe thead th {\n",
       "        text-align: right;\n",
       "    }\n",
       "</style>\n",
       "<table border=\"1\" class=\"dataframe\">\n",
       "  <thead>\n",
       "    <tr style=\"text-align: right;\">\n",
       "      <th></th>\n",
       "      <th>id</th>\n",
       "      <th>user_name</th>\n",
       "      <th>lat</th>\n",
       "      <th>long</th>\n",
       "      <th>date</th>\n",
       "      <th>text</th>\n",
       "      <th>text_clean</th>\n",
       "      <th>n_sentence</th>\n",
       "      <th>n_words</th>\n",
       "      <th>label</th>\n",
       "    </tr>\n",
       "  </thead>\n",
       "  <tbody>\n",
       "    <tr>\n",
       "      <th>0</th>\n",
       "      <td>1303845642016497664</td>\n",
       "      <td>maxwell18191708</td>\n",
       "      <td>35.369139</td>\n",
       "      <td>-121.033126</td>\n",
       "      <td>2020-09-09 23:59:59+00:00</td>\n",
       "      <td>Oregon governor says towns have been ‘substant...</td>\n",
       "      <td>oregon governor say town have been substantial...</td>\n",
       "      <td>1</td>\n",
       "      <td>19</td>\n",
       "      <td>1</td>\n",
       "    </tr>\n",
       "    <tr>\n",
       "      <th>1</th>\n",
       "      <td>1304359517552095235</td>\n",
       "      <td>JoinDeepRock</td>\n",
       "      <td>35.507931</td>\n",
       "      <td>-121.352019</td>\n",
       "      <td>2020-09-11 10:01:57+00:00</td>\n",
       "      <td>96% Overwhelmingly Positive Reviews! Grab a fr...</td>\n",
       "      <td>overwhelmingly positive review  grab a frien...</td>\n",
       "      <td>2</td>\n",
       "      <td>15</td>\n",
       "      <td>0</td>\n",
       "    </tr>\n",
       "    <tr>\n",
       "      <th>2</th>\n",
       "      <td>1303845637851471872</td>\n",
       "      <td>SayWHARadio</td>\n",
       "      <td>36.390380</td>\n",
       "      <td>-118.941569</td>\n",
       "      <td>2020-09-09 23:59:59+00:00</td>\n",
       "      <td>‘Catastrophic’ wildfires may be deadliest in O...</td>\n",
       "      <td>catastrophic wildfire may be deadliest in oreg...</td>\n",
       "      <td>1</td>\n",
       "      <td>11</td>\n",
       "      <td>1</td>\n",
       "    </tr>\n",
       "    <tr>\n",
       "      <th>3</th>\n",
       "      <td>1303845628544520193</td>\n",
       "      <td>rankstr</td>\n",
       "      <td>34.979422</td>\n",
       "      <td>-119.251991</td>\n",
       "      <td>2020-09-09 23:59:56+00:00</td>\n",
       "      <td>SFGate: Thick wildfire smoke blocks sun, turns...</td>\n",
       "      <td>sfgate  thick wildfire smoke block sun  turn b...</td>\n",
       "      <td>1</td>\n",
       "      <td>13</td>\n",
       "      <td>1</td>\n",
       "    </tr>\n",
       "    <tr>\n",
       "      <th>4</th>\n",
       "      <td>1303845625713188865</td>\n",
       "      <td>zach_wilk</td>\n",
       "      <td>37.455476</td>\n",
       "      <td>-121.470958</td>\n",
       "      <td>2020-09-09 23:59:56+00:00</td>\n",
       "      <td>Still having a hard time processing that I had...</td>\n",
       "      <td>still having a hard time processing that i had...</td>\n",
       "      <td>3</td>\n",
       "      <td>37</td>\n",
       "      <td>1</td>\n",
       "    </tr>\n",
       "  </tbody>\n",
       "</table>\n",
       "</div>"
      ],
      "text/plain": [
       "                    id        user_name        lat        long  \\\n",
       "0  1303845642016497664  maxwell18191708  35.369139 -121.033126   \n",
       "1  1304359517552095235     JoinDeepRock  35.507931 -121.352019   \n",
       "2  1303845637851471872      SayWHARadio  36.390380 -118.941569   \n",
       "3  1303845628544520193          rankstr  34.979422 -119.251991   \n",
       "4  1303845625713188865        zach_wilk  37.455476 -121.470958   \n",
       "\n",
       "                        date  \\\n",
       "0  2020-09-09 23:59:59+00:00   \n",
       "1  2020-09-11 10:01:57+00:00   \n",
       "2  2020-09-09 23:59:59+00:00   \n",
       "3  2020-09-09 23:59:56+00:00   \n",
       "4  2020-09-09 23:59:56+00:00   \n",
       "\n",
       "                                                text  \\\n",
       "0  Oregon governor says towns have been ‘substant...   \n",
       "1  96% Overwhelmingly Positive Reviews! Grab a fr...   \n",
       "2  ‘Catastrophic’ wildfires may be deadliest in O...   \n",
       "3  SFGate: Thick wildfire smoke blocks sun, turns...   \n",
       "4  Still having a hard time processing that I had...   \n",
       "\n",
       "                                          text_clean  n_sentence  n_words  \\\n",
       "0  oregon governor say town have been substantial...           1       19   \n",
       "1    overwhelmingly positive review  grab a frien...           2       15   \n",
       "2  catastrophic wildfire may be deadliest in oreg...           1       11   \n",
       "3  sfgate  thick wildfire smoke block sun  turn b...           1       13   \n",
       "4  still having a hard time processing that i had...           3       37   \n",
       "\n",
       "   label  \n",
       "0      1  \n",
       "1      0  \n",
       "2      1  \n",
       "3      1  \n",
       "4      1  "
      ]
     },
     "execution_count": 9,
     "metadata": {},
     "output_type": "execute_result"
    }
   ],
   "source": [
    "df.head()"
   ]
  },
  {
   "cell_type": "code",
   "execution_count": 11,
   "metadata": {},
   "outputs": [],
   "source": [
    "# save this to a csv file\n",
    "\n",
    "df.to_csv('../data/final_labeled.csv')"
   ]
  },
  {
   "cell_type": "code",
   "execution_count": 12,
   "metadata": {},
   "outputs": [
    {
     "data": {
      "text/plain": [
       "0    0.501907\n",
       "1    0.498093\n",
       "Name: label, dtype: float64"
      ]
     },
     "execution_count": 12,
     "metadata": {},
     "output_type": "execute_result"
    }
   ],
   "source": [
    "# define baseline accuracy\n",
    "\n",
    "df['label'].value_counts(normalize = True)"
   ]
  },
  {
   "cell_type": "markdown",
   "metadata": {},
   "source": [
    "## Modeling"
   ]
  },
  {
   "cell_type": "code",
   "execution_count": 13,
   "metadata": {},
   "outputs": [],
   "source": [
    "# set up X and y and train test split\n",
    "\n",
    "X = df['text_clean']\n",
    "y = df['label']\n",
    "\n",
    "X_train, X_test, y_train, y_test = train_test_split(X, y, test_size = .33, random_state = 42, stratify = y)"
   ]
  },
  {
   "cell_type": "code",
   "execution_count": 14,
   "metadata": {},
   "outputs": [
    {
     "name": "stdout",
     "output_type": "stream",
     "text": [
      "179\n",
      "219\n"
     ]
    }
   ],
   "source": [
    "# create a custom stop words list\n",
    "\n",
    "print(len(stopwords.words('english')))\n",
    "\n",
    "stop_words = stopwords.words('english') + relevant_words\n",
    "\n",
    "print(len(stop_words))"
   ]
  },
  {
   "cell_type": "markdown",
   "metadata": {},
   "source": [
    "### CountVectorizer()\n",
    "#### Multinomial Naive Bayes and Support Vector Machine"
   ]
  },
  {
   "cell_type": "code",
   "execution_count": 15,
   "metadata": {},
   "outputs": [],
   "source": [
    "# set 2 pipelines with: 1. Multinomial Bayes 2. Support Vector Machine\n",
    "\n",
    "pipeline_mb = Pipeline([\n",
    "                       ('cvec', CountVectorizer()),\n",
    "                       ('mb', MultinomialNB())\n",
    "                       ])\n",
    "\n",
    "pipeline_svc = Pipeline([\n",
    "                        ('cvec', CountVectorizer()),\n",
    "                        ('svc', SVC())\n",
    "                        ])"
   ]
  },
  {
   "cell_type": "code",
   "execution_count": 16,
   "metadata": {},
   "outputs": [],
   "source": [
    "# set up a dictionary to store the best parameters\n",
    "\n",
    "model_mb_params = {}\n",
    "count_mb = 0\n",
    "\n",
    "model_svc_params = {}\n",
    "count_svc = 0"
   ]
  },
  {
   "cell_type": "code",
   "execution_count": 17,
   "metadata": {},
   "outputs": [],
   "source": [
    "# set up parameters\n",
    "\n",
    "pipe_params = {\n",
    "    'cvec__max_features': [4000, 5000, 5500, 6000],\n",
    "    'cvec__min_df': [1, 2, 3],\n",
    "    'cvec__max_df': [.85, .90, .95],\n",
    "    'cvec__ngram_range': [(1, 1), (1, 2)],\n",
    "    'cvec__stop_words': [stop_words, None]\n",
    "}"
   ]
  },
  {
   "cell_type": "code",
   "execution_count": 18,
   "metadata": {},
   "outputs": [],
   "source": [
    "# instantiate GridSearchCV - NaiveBayes\n",
    "\n",
    "gs_mb = GridSearchCV(pipeline_mb, \n",
    "                     param_grid = pipe_params, \n",
    "                     cv = 3) \n",
    "\n",
    "# instantiate GridSearchCV - SVC\n",
    "\n",
    "gs_svc = GridSearchCV(pipeline_svc, \n",
    "                      param_grid = pipe_params, \n",
    "                      cv = 3) "
   ]
  },
  {
   "cell_type": "code",
   "execution_count": 19,
   "metadata": {},
   "outputs": [],
   "source": [
    "# increase counter as we put in different parameters\n",
    "\n",
    "count_mb += 1\n",
    "\n",
    "# fit the training set\n",
    "\n",
    "gs_mb.fit(X_train, y_train)\n",
    "\n",
    "# best score is not captured in parameters -> create a key 'score' to store the info\n",
    "\n",
    "gs_mb.best_params_['score'] = gs_mb.best_score_\n",
    "\n",
    "model_mb_params[f'model_{count_mb}'] = gs_mb.best_params_\n",
    "\n",
    "# dictionary to a dataframe\n",
    "\n",
    "model_mb_df = pd.DataFrame.from_dict(model_mb_params, orient = 'index')"
   ]
  },
  {
   "cell_type": "code",
   "execution_count": 20,
   "metadata": {},
   "outputs": [
    {
     "data": {
      "text/html": [
       "<div>\n",
       "<style scoped>\n",
       "    .dataframe tbody tr th:only-of-type {\n",
       "        vertical-align: middle;\n",
       "    }\n",
       "\n",
       "    .dataframe tbody tr th {\n",
       "        vertical-align: top;\n",
       "    }\n",
       "\n",
       "    .dataframe thead th {\n",
       "        text-align: right;\n",
       "    }\n",
       "</style>\n",
       "<table border=\"1\" class=\"dataframe\">\n",
       "  <thead>\n",
       "    <tr style=\"text-align: right;\">\n",
       "      <th></th>\n",
       "      <th>cvec__max_df</th>\n",
       "      <th>cvec__max_features</th>\n",
       "      <th>cvec__min_df</th>\n",
       "      <th>cvec__ngram_range</th>\n",
       "      <th>cvec__stop_words</th>\n",
       "      <th>score</th>\n",
       "    </tr>\n",
       "  </thead>\n",
       "  <tbody>\n",
       "    <tr>\n",
       "      <th>model_1</th>\n",
       "      <td>0.85</td>\n",
       "      <td>4000</td>\n",
       "      <td>3</td>\n",
       "      <td>(1, 2)</td>\n",
       "      <td>None</td>\n",
       "      <td>0.954074</td>\n",
       "    </tr>\n",
       "  </tbody>\n",
       "</table>\n",
       "</div>"
      ],
      "text/plain": [
       "         cvec__max_df  cvec__max_features  cvec__min_df cvec__ngram_range  \\\n",
       "model_1          0.85                4000             3            (1, 2)   \n",
       "\n",
       "        cvec__stop_words     score  \n",
       "model_1             None  0.954074  "
      ]
     },
     "execution_count": 20,
     "metadata": {},
     "output_type": "execute_result"
    }
   ],
   "source": [
    "model_mb_df"
   ]
  },
  {
   "cell_type": "code",
   "execution_count": 21,
   "metadata": {},
   "outputs": [],
   "source": [
    "# increase counter as we put in different parameters\n",
    "\n",
    "count_svc += 1\n",
    "\n",
    "# fit the training set\n",
    "\n",
    "gs_svc.fit(X_train, y_train)\n",
    "\n",
    "# best score is not captured in parameters -> create a key 'score' to store the info\n",
    "\n",
    "gs_svc.best_params_['score'] = gs_svc.best_score_\n",
    "\n",
    "model_svc_params[f'model_{count_svc}'] = gs_svc.best_params_\n",
    "\n",
    "# dictionary to a dataframe\n",
    "\n",
    "model_svc_df = pd.DataFrame.from_dict(model_svc_params, orient = 'index')"
   ]
  },
  {
   "cell_type": "code",
   "execution_count": 23,
   "metadata": {},
   "outputs": [
    {
     "data": {
      "text/html": [
       "<div>\n",
       "<style scoped>\n",
       "    .dataframe tbody tr th:only-of-type {\n",
       "        vertical-align: middle;\n",
       "    }\n",
       "\n",
       "    .dataframe tbody tr th {\n",
       "        vertical-align: top;\n",
       "    }\n",
       "\n",
       "    .dataframe thead th {\n",
       "        text-align: right;\n",
       "    }\n",
       "</style>\n",
       "<table border=\"1\" class=\"dataframe\">\n",
       "  <thead>\n",
       "    <tr style=\"text-align: right;\">\n",
       "      <th></th>\n",
       "      <th>cvec__max_df</th>\n",
       "      <th>cvec__max_features</th>\n",
       "      <th>cvec__min_df</th>\n",
       "      <th>cvec__ngram_range</th>\n",
       "      <th>cvec__stop_words</th>\n",
       "      <th>score</th>\n",
       "    </tr>\n",
       "  </thead>\n",
       "  <tbody>\n",
       "    <tr>\n",
       "      <th>model_1</th>\n",
       "      <td>0.85</td>\n",
       "      <td>4000</td>\n",
       "      <td>1</td>\n",
       "      <td>(1, 2)</td>\n",
       "      <td>None</td>\n",
       "      <td>0.98963</td>\n",
       "    </tr>\n",
       "  </tbody>\n",
       "</table>\n",
       "</div>"
      ],
      "text/plain": [
       "         cvec__max_df  cvec__max_features  cvec__min_df cvec__ngram_range  \\\n",
       "model_1          0.85                4000             1            (1, 2)   \n",
       "\n",
       "        cvec__stop_words    score  \n",
       "model_1             None  0.98963  "
      ]
     },
     "execution_count": 23,
     "metadata": {},
     "output_type": "execute_result"
    }
   ],
   "source": [
    "model_svc_df"
   ]
  },
  {
   "cell_type": "code",
   "execution_count": 24,
   "metadata": {},
   "outputs": [
    {
     "name": "stdout",
     "output_type": "stream",
     "text": [
      "Multinomial Naive Bayes: 0.9702923976608188\n",
      "\n",
      "SVC: 0.9978947368421053\n"
     ]
    }
   ],
   "source": [
    "# train set score\n",
    "\n",
    "print(f'Multinomial Naive Bayes: {gs_mb.score(X_train, y_train)}')\n",
    "print(f'\\nSVC: {gs_svc.score(X_train, y_train)}')"
   ]
  },
  {
   "cell_type": "code",
   "execution_count": 25,
   "metadata": {},
   "outputs": [
    {
     "name": "stdout",
     "output_type": "stream",
     "text": [
      "Multinomial Naive Bayes: 0.9591642924976258\n",
      "\n",
      "SVC: 0.9922443811332701\n"
     ]
    }
   ],
   "source": [
    "# test set score\n",
    "\n",
    "print(f'Multinomial Naive Bayes: {gs_mb.score(X_test, y_test)}')\n",
    "print(f'\\nSVC: {gs_svc.score(X_test, y_test)}')"
   ]
  },
  {
   "cell_type": "code",
   "execution_count": 26,
   "metadata": {},
   "outputs": [
    {
     "name": "stdout",
     "output_type": "stream",
     "text": [
      "Multinomial Naive Bayes: \n",
      "{'cvec__max_df': 0.85, 'cvec__max_features': 4000, 'cvec__min_df': 3, 'cvec__ngram_range': (1, 2), 'cvec__stop_words': None, 'score': 0.954074074074074}\n",
      "\n",
      "SVC: \n",
      "{'cvec__max_df': 0.85, 'cvec__max_features': 4000, 'cvec__min_df': 1, 'cvec__ngram_range': (1, 2), 'cvec__stop_words': None, 'score': 0.9896296296296296}\n"
     ]
    }
   ],
   "source": [
    "# find the best parameters for both models\n",
    "\n",
    "print(f'Multinomial Naive Bayes: \\n{gs_mb.best_params_}')\n",
    "print(f'\\nSVC: \\n{gs_svc.best_params_}')"
   ]
  },
  {
   "cell_type": "code",
   "execution_count": 27,
   "metadata": {},
   "outputs": [
    {
     "name": "stdout",
     "output_type": "stream",
     "text": [
      "Multinomial Naive Bayes: \n",
      "Pipeline(steps=[('cvec',\n",
      "                 CountVectorizer(max_df=0.85, max_features=4000, min_df=3,\n",
      "                                 ngram_range=(1, 2))),\n",
      "                ('mb', MultinomialNB())])\n",
      "\n",
      "SVC: \n",
      "Pipeline(steps=[('cvec',\n",
      "                 CountVectorizer(max_df=0.85, max_features=4000,\n",
      "                                 ngram_range=(1, 2))),\n",
      "                ('svc', SVC())])\n"
     ]
    }
   ],
   "source": [
    "# find the best estimators for both models\n",
    "\n",
    "print(f'Multinomial Naive Bayes: \\n{gs_mb.best_estimator_}')\n",
    "print(f'\\nSVC: \\n{gs_svc.best_estimator_}')"
   ]
  },
  {
   "cell_type": "code",
   "execution_count": 28,
   "metadata": {},
   "outputs": [],
   "source": [
    "# predictions\n",
    "\n",
    "y_preds = gs_svc.predict(X_test)\n",
    "\n",
    "# confusion matrix values\n",
    "\n",
    "tn, fp, fn, tp = confusion_matrix(y_test, y_preds).ravel()"
   ]
  },
  {
   "cell_type": "code",
   "execution_count": 29,
   "metadata": {},
   "outputs": [
    {
     "data": {
      "image/png": "[encoded data removed]",
      "text/plain": [
       "<Figure size 432x288 with 2 Axes>"
      ]
     },
     "metadata": {
      "needs_background": "light"
     },
     "output_type": "display_data"
    }
   ],
   "source": [
    "# view confusion matrix\n",
    "\n",
    "plot_confusion_matrix(gs_svc, X_test, y_test, cmap = 'Blues', normalize = 'true');"
   ]
  },
  {
   "cell_type": "markdown",
   "metadata": {},
   "source": [
    "### TfidfVectorizer()\n",
    "#### Multinomial Naive Bayes and Support Vector Machine"
   ]
  },
  {
   "cell_type": "code",
   "execution_count": 30,
   "metadata": {},
   "outputs": [],
   "source": [
    "# set up 2 pipelines with: 1. Multinomial Naive Bayes 2. SVC\n",
    "\n",
    "pipe_mb_t = Pipeline([\n",
    "                      ('tvec', TfidfVectorizer()),\n",
    "                      ('mb', MultinomialNB())\n",
    "                     ])\n",
    "\n",
    "pipe_svc_t = Pipeline([\n",
    "                       ('tvec', TfidfVectorizer()),\n",
    "                       ('svc', SVC())\n",
    "                      ])"
   ]
  },
  {
   "cell_type": "code",
   "execution_count": 31,
   "metadata": {},
   "outputs": [],
   "source": [
    "# set up a dictionary to store the best parameters\n",
    "\n",
    "t_mb_params = {}\n",
    "t_count_mb = 0\n",
    "\n",
    "t_svc_params = {}\n",
    "t_count_svc = 0"
   ]
  },
  {
   "cell_type": "code",
   "execution_count": 32,
   "metadata": {},
   "outputs": [],
   "source": [
    "# search over the following values of hyperparameters:\n",
    "\n",
    "pipe_tvec_params = {\n",
    "    'tvec__max_features': [4000, 5000, 6000],\n",
    "    'tvec__stop_words': [stop_words, None],\n",
    "    'tvec__ngram_range': [(1, 1), (1, 2)],\n",
    "    'tvec__min_df': [0.001, 0.002, 0.003],\n",
    "    'tvec__max_df': [0.85, 0.90, 0.95]\n",
    "}"
   ]
  },
  {
   "cell_type": "code",
   "execution_count": 33,
   "metadata": {},
   "outputs": [],
   "source": [
    "# instantiate GridSearchCV\n",
    "\n",
    "gs_mb_t = GridSearchCV(pipe_mb_t,\n",
    "                       param_grid = pipe_tvec_params,\n",
    "                       cv = 3)\n",
    "\n",
    "gs_svc_t = GridSearchCV(pipe_svc_t,\n",
    "                        param_grid = pipe_tvec_params,\n",
    "                        cv = 3)"
   ]
  },
  {
   "cell_type": "code",
   "execution_count": 34,
   "metadata": {},
   "outputs": [],
   "source": [
    "# increase counter as we put in different parameters\n",
    "\n",
    "t_count_mb += 1\n",
    "\n",
    "# fit the training set\n",
    "\n",
    "gs_mb_t.fit(X_train, y_train)\n",
    "\n",
    "# best score is not captured in parameters -> create a key 'score' to store the info\n",
    "\n",
    "gs_mb_t.best_params_['score'] = gs_mb_t.best_score_\n",
    "\n",
    "t_mb_params[f'model_{t_count_mb}'] = gs_mb_t.best_params_\n",
    "\n",
    "# dictionary to a dataframe\n",
    "\n",
    "t_mb_df = pd.DataFrame.from_dict(t_mb_params, orient = 'index')"
   ]
  },
  {
   "cell_type": "code",
   "execution_count": 35,
   "metadata": {},
   "outputs": [
    {
     "data": {
      "text/html": [
       "<div>\n",
       "<style scoped>\n",
       "    .dataframe tbody tr th:only-of-type {\n",
       "        vertical-align: middle;\n",
       "    }\n",
       "\n",
       "    .dataframe tbody tr th {\n",
       "        vertical-align: top;\n",
       "    }\n",
       "\n",
       "    .dataframe thead th {\n",
       "        text-align: right;\n",
       "    }\n",
       "</style>\n",
       "<table border=\"1\" class=\"dataframe\">\n",
       "  <thead>\n",
       "    <tr style=\"text-align: right;\">\n",
       "      <th></th>\n",
       "      <th>tvec__max_df</th>\n",
       "      <th>tvec__max_features</th>\n",
       "      <th>tvec__min_df</th>\n",
       "      <th>tvec__ngram_range</th>\n",
       "      <th>tvec__stop_words</th>\n",
       "      <th>score</th>\n",
       "    </tr>\n",
       "  </thead>\n",
       "  <tbody>\n",
       "    <tr>\n",
       "      <th>model_1</th>\n",
       "      <td>0.85</td>\n",
       "      <td>4000</td>\n",
       "      <td>0.002</td>\n",
       "      <td>(1, 2)</td>\n",
       "      <td>None</td>\n",
       "      <td>0.944639</td>\n",
       "    </tr>\n",
       "  </tbody>\n",
       "</table>\n",
       "</div>"
      ],
      "text/plain": [
       "         tvec__max_df  tvec__max_features  tvec__min_df tvec__ngram_range  \\\n",
       "model_1          0.85                4000         0.002            (1, 2)   \n",
       "\n",
       "        tvec__stop_words     score  \n",
       "model_1             None  0.944639  "
      ]
     },
     "execution_count": 35,
     "metadata": {},
     "output_type": "execute_result"
    }
   ],
   "source": [
    "t_mb_df"
   ]
  },
  {
   "cell_type": "code",
   "execution_count": 42,
   "metadata": {},
   "outputs": [],
   "source": [
    "# increase counter as we put in different parameters\n",
    "\n",
    "t_count_svc += 1\n",
    "\n",
    "# fit the training set\n",
    "\n",
    "gs_svc_t.fit(X_train, y_train)\n",
    "\n",
    "# best score is not captured in parameters -> create a key 'score' to store the info\n",
    "\n",
    "gs_svc_t.best_params_['score'] = gs_svc_t.best_score_\n",
    "\n",
    "t_svc_params[f'model_{t_count_svc}'] = gs_svc_t.best_params_\n",
    "\n",
    "# dictionary to a dataframe\n",
    "\n",
    "t_svc_df = pd.DataFrame.from_dict(t_svc_params, orient = 'index')"
   ]
  },
  {
   "cell_type": "code",
   "execution_count": 43,
   "metadata": {},
   "outputs": [
    {
     "data": {
      "text/html": [
       "<div>\n",
       "<style scoped>\n",
       "    .dataframe tbody tr th:only-of-type {\n",
       "        vertical-align: middle;\n",
       "    }\n",
       "\n",
       "    .dataframe tbody tr th {\n",
       "        vertical-align: top;\n",
       "    }\n",
       "\n",
       "    .dataframe thead th {\n",
       "        text-align: right;\n",
       "    }\n",
       "</style>\n",
       "<table border=\"1\" class=\"dataframe\">\n",
       "  <thead>\n",
       "    <tr style=\"text-align: right;\">\n",
       "      <th></th>\n",
       "      <th>tvec__max_df</th>\n",
       "      <th>tvec__max_features</th>\n",
       "      <th>tvec__min_df</th>\n",
       "      <th>tvec__ngram_range</th>\n",
       "      <th>tvec__stop_words</th>\n",
       "      <th>score</th>\n",
       "    </tr>\n",
       "  </thead>\n",
       "  <tbody>\n",
       "    <tr>\n",
       "      <th>model_1</th>\n",
       "      <td>0.85</td>\n",
       "      <td>4000</td>\n",
       "      <td>0.003</td>\n",
       "      <td>(1, 2)</td>\n",
       "      <td>None</td>\n",
       "      <td>0.994542</td>\n",
       "    </tr>\n",
       "    <tr>\n",
       "      <th>model_2</th>\n",
       "      <td>0.85</td>\n",
       "      <td>4000</td>\n",
       "      <td>0.003</td>\n",
       "      <td>(1, 2)</td>\n",
       "      <td>None</td>\n",
       "      <td>0.994542</td>\n",
       "    </tr>\n",
       "  </tbody>\n",
       "</table>\n",
       "</div>"
      ],
      "text/plain": [
       "         tvec__max_df  tvec__max_features  tvec__min_df tvec__ngram_range  \\\n",
       "model_1          0.85                4000         0.003            (1, 2)   \n",
       "model_2          0.85                4000         0.003            (1, 2)   \n",
       "\n",
       "        tvec__stop_words     score  \n",
       "model_1             None  0.994542  \n",
       "model_2             None  0.994542  "
      ]
     },
     "execution_count": 43,
     "metadata": {},
     "output_type": "execute_result"
    }
   ],
   "source": [
    "t_svc_df"
   ]
  },
  {
   "cell_type": "code",
   "execution_count": 44,
   "metadata": {},
   "outputs": [
    {
     "name": "stdout",
     "output_type": "stream",
     "text": [
      "Multinomial Naive Bayes: 0.9446393762183236\n",
      "\n",
      "SVC: 0.994541910331384\n"
     ]
    }
   ],
   "source": [
    "# best scores\n",
    "\n",
    "print(f'Multinomial Naive Bayes: {gs_mb_t.best_score_}')\n",
    "print(f'\\nSVC: {gs_svc_t.best_score_}')"
   ]
  },
  {
   "cell_type": "code",
   "execution_count": 45,
   "metadata": {},
   "outputs": [
    {
     "name": "stdout",
     "output_type": "stream",
     "text": [
      "Multinomial Naive Bayes: 0.9553216374269006\n",
      "\n",
      "SVC: 0.997972709551657\n"
     ]
    }
   ],
   "source": [
    "# train data accuracy score \n",
    "\n",
    "print(f'Multinomial Naive Bayes: {gs_mb_t.score(X_train, y_train)}')\n",
    "print(f'\\nSVC: {gs_svc_t.score(X_train, y_train)}')"
   ]
  },
  {
   "cell_type": "code",
   "execution_count": 46,
   "metadata": {},
   "outputs": [
    {
     "name": "stdout",
     "output_type": "stream",
     "text": [
      "Multinomial Naive Bayes: 0.9458689458689459\n",
      "\n",
      "SVC: 0.9960430515986072\n"
     ]
    }
   ],
   "source": [
    "# test data accuracy score \n",
    "\n",
    "print(f'Multinomial Naive Bayes: {gs_mb_t.score(X_test, y_test)}')\n",
    "print(f'\\nSVC: {gs_svc_t.score(X_test, y_test)}')"
   ]
  },
  {
   "cell_type": "code",
   "execution_count": 47,
   "metadata": {},
   "outputs": [
    {
     "name": "stdout",
     "output_type": "stream",
     "text": [
      "Multinomial Naive Bayes: \n",
      "Pipeline(steps=[('tvec',\n",
      "                 TfidfVectorizer(max_df=0.85, max_features=4000, min_df=0.002,\n",
      "                                 ngram_range=(1, 2))),\n",
      "                ('mb', MultinomialNB())])\n",
      "\n",
      "SVC: \n",
      "Pipeline(steps=[('tvec',\n",
      "                 TfidfVectorizer(max_df=0.85, max_features=4000, min_df=0.003,\n",
      "                                 ngram_range=(1, 2))),\n",
      "                ('svc', SVC())])\n"
     ]
    }
   ],
   "source": [
    "# best estimators\n",
    "\n",
    "print(f'Multinomial Naive Bayes: \\n{gs_mb_t.best_estimator_}')\n",
    "print(f'\\nSVC: \\n{gs_svc_t.best_estimator_}')"
   ]
  },
  {
   "cell_type": "code",
   "execution_count": 48,
   "metadata": {},
   "outputs": [
    {
     "name": "stdout",
     "output_type": "stream",
     "text": [
      "Multinomial Naive Bayes: \n",
      "{'tvec__max_df': 0.85, 'tvec__max_features': 4000, 'tvec__min_df': 0.002, 'tvec__ngram_range': (1, 2), 'tvec__stop_words': None, 'score': 0.9446393762183236}\n",
      "\n",
      "SVC: \n",
      "{'tvec__max_df': 0.85, 'tvec__max_features': 4000, 'tvec__min_df': 0.003, 'tvec__ngram_range': (1, 2), 'tvec__stop_words': None, 'score': 0.994541910331384}\n"
     ]
    }
   ],
   "source": [
    "# best parameters\n",
    "\n",
    "print(f'Multinomial Naive Bayes: \\n{gs_mb_t.best_params_}')\n",
    "print(f'\\nSVC: \\n{gs_svc_t.best_params_}')"
   ]
  },
  {
   "cell_type": "code",
   "execution_count": 49,
   "metadata": {},
   "outputs": [],
   "source": [
    "# predictions\n",
    "\n",
    "y_preds_t = gs_svc_t.predict(X_test)\n",
    "\n",
    "# confusion matrix values\n",
    "\n",
    "tn, fp, fn, tp = confusion_matrix(y_test, y_preds_t).ravel()"
   ]
  },
  {
   "cell_type": "code",
   "execution_count": 50,
   "metadata": {},
   "outputs": [
    {
     "data": {
      "image/png": "[encoded data removed]",
      "text/plain": [
       "<Figure size 432x288 with 2 Axes>"
      ]
     },
     "metadata": {
      "needs_background": "light"
     },
     "output_type": "display_data"
    }
   ],
   "source": [
    "# view confusion matrix\n",
    "\n",
    "plot_confusion_matrix(gs_svc_t, X_test, y_test, cmap = 'Blues', normalize = 'true');\n"
   ]
  },
  {
   "cell_type": "markdown",
   "metadata": {},
   "source": [
    "### word2vec\n",
    "#### Multinomial Naive Bayes and Support Vector Machine\n",
    "> Multinomial Naive Bayes did not work because of negative values."
   ]
  },
  {
   "cell_type": "code",
   "execution_count": 52,
   "metadata": {},
   "outputs": [],
   "source": [
    "# import gensim and create a model to vectorize the words\n",
    "\n",
    "import gensim\n",
    "\n",
    "file_path = '../../../../08-week/8.05-lesson-word-vectors/lexvec.enwiki+newscrawl.300d.W.pos.vectors'\n",
    "\n",
    "model = gensim.models.KeyedVectors.load_word2vec_format(file_path)"
   ]
  },
  {
   "cell_type": "markdown",
   "metadata": {},
   "source": [
    "#### with stopwords"
   ]
  },
  {
   "cell_type": "code",
   "execution_count": 53,
   "metadata": {},
   "outputs": [],
   "source": [
    "# missing some index because of dropped rows with no text - will read back in\n",
    "\n",
    "df = pd.read_csv('../data/final_labeled.csv')"
   ]
  },
  {
   "cell_type": "code",
   "execution_count": 54,
   "metadata": {},
   "outputs": [],
   "source": [
    "# create an empty list to store mean vector values from each row\n",
    "\n",
    "vectors = [] \n",
    "\n",
    "# iterate through each row\n",
    "for i in range(len(df['text_clean'])):\n",
    "    \n",
    "    # create an empty list to store vector values of each row\n",
    "    vector = []\n",
    "    \n",
    "    # iterate through each word of each row\n",
    "    for word in df['text_clean'][i].split(' '): \n",
    "        \n",
    "        if word not in stop_words: \n",
    "        \n",
    "            # if word is present in model, then vectorize\n",
    "            try:\n",
    "                word_vec = model[word] \n",
    "                # if word is present then append it to temporary dataframe\n",
    "                vector.append(word_vec) \n",
    "        \n",
    "            except:\n",
    "                pass\n",
    "    \n",
    "    vectors.append(np.mean(vector))"
   ]
  },
  {
   "cell_type": "code",
   "execution_count": 55,
   "metadata": {},
   "outputs": [
    {
     "name": "stdout",
     "output_type": "stream",
     "text": [
      "19143\n",
      "19143\n"
     ]
    },
    {
     "data": {
      "text/plain": [
       "[-0.002557206, 0.0034716919, -0.0005501498]"
      ]
     },
     "execution_count": 55,
     "metadata": {},
     "output_type": "execute_result"
    }
   ],
   "source": [
    "# check if vectors have been created\n",
    "\n",
    "print(len(df['text_clean']))\n",
    "print(len(vectors))\n",
    "vectors[:3]"
   ]
  },
  {
   "cell_type": "code",
   "execution_count": 56,
   "metadata": {},
   "outputs": [],
   "source": [
    "# store vector values in the dataframe\n",
    "\n",
    "df['vector_mean'] = vectors\n",
    "\n",
    "# if null, fill null value as 0 --> foreign language still in UTF8 format\n",
    "\n",
    "df['vector_mean'].fillna(0, inplace = True)"
   ]
  },
  {
   "cell_type": "code",
   "execution_count": 57,
   "metadata": {},
   "outputs": [],
   "source": [
    "# assing X and y\n",
    "\n",
    "X = df[['vector_mean']]\n",
    "y = df['label']\n",
    "\n",
    "\n",
    "# train test split\n",
    "\n",
    "X_train, X_test, y_train, y_test = train_test_split(X, y, test_size = 0.33, random_state = 42, stratify = y)"
   ]
  },
  {
   "cell_type": "code",
   "execution_count": 58,
   "metadata": {},
   "outputs": [
    {
     "data": {
      "text/plain": [
       "0.6549540993985439"
      ]
     },
     "execution_count": 58,
     "metadata": {},
     "output_type": "execute_result"
    }
   ],
   "source": [
    "# instantiate SVC\n",
    "\n",
    "svc = SVC()\n",
    "\n",
    "# fit\n",
    "\n",
    "svc.fit(X_train, y_train)\n",
    "\n",
    "# predict\n",
    "\n",
    "y_pred = svc.predict(X_test)\n",
    "\n",
    "# score\n",
    "\n",
    "accuracy_score(y_test, y_pred)"
   ]
  },
  {
   "cell_type": "markdown",
   "metadata": {},
   "source": [
    "#### without stopwords"
   ]
  },
  {
   "cell_type": "code",
   "execution_count": 59,
   "metadata": {},
   "outputs": [],
   "source": [
    "# create an empty list to store mean vector values from each row\n",
    "\n",
    "vectors = [] \n",
    "\n",
    "# iterate through each row\n",
    "for i in range(len(df['text_clean'])):\n",
    "    \n",
    "    # create an empty list to store vector values of each row\n",
    "    vector = []\n",
    "    \n",
    "    # iterate through each word of each row\n",
    "    for word in df['text_clean'][i].split(' '): \n",
    "        \n",
    "        try:\n",
    "            word_vec = model[word] \n",
    "            vector.append(word_vec) \n",
    "        \n",
    "        except:\n",
    "            pass\n",
    "    \n",
    "    vectors.append(np.mean(vector))"
   ]
  },
  {
   "cell_type": "code",
   "execution_count": 60,
   "metadata": {},
   "outputs": [
    {
     "name": "stdout",
     "output_type": "stream",
     "text": [
      "19143\n",
      "19143\n"
     ]
    },
    {
     "data": {
      "text/plain": [
       "[-0.0027200815, 0.00209491, -0.0012385602]"
      ]
     },
     "execution_count": 60,
     "metadata": {},
     "output_type": "execute_result"
    }
   ],
   "source": [
    "# check if vectors have been created\n",
    "\n",
    "print(len(df['text_clean']))\n",
    "print(len(vectors))\n",
    "vectors[:3]"
   ]
  },
  {
   "cell_type": "code",
   "execution_count": 61,
   "metadata": {},
   "outputs": [],
   "source": [
    "# store vector values in the dataframe\n",
    "\n",
    "df['vector1_mean'] = vectors\n",
    "\n",
    "# if null, fill null value as 0 --> foreign languages still in UTF8 format\n",
    "\n",
    "df['vector1_mean'].fillna(0, inplace = True)"
   ]
  },
  {
   "cell_type": "code",
   "execution_count": 62,
   "metadata": {},
   "outputs": [],
   "source": [
    "# assing X and y\n",
    "\n",
    "X = df[['vector1_mean']]\n",
    "y = df['label']\n",
    "\n",
    "\n",
    "# train test split\n",
    "\n",
    "X_train, X_test, y_train, y_test = train_test_split(X, y, test_size = 0.33, random_state = 42, stratify = y)"
   ]
  },
  {
   "cell_type": "code",
   "execution_count": 63,
   "metadata": {},
   "outputs": [
    {
     "data": {
      "text/plain": [
       "0.6464070908515352"
      ]
     },
     "execution_count": 63,
     "metadata": {},
     "output_type": "execute_result"
    }
   ],
   "source": [
    "# instantiate SVC\n",
    "\n",
    "svc = SVC()\n",
    "\n",
    "# fit\n",
    "\n",
    "svc.fit(X_train, y_train)  \n",
    "\n",
    "# predict\n",
    "\n",
    "y_pred = svc.predict(X_test)\n",
    "\n",
    "# score\n",
    "\n",
    "accuracy_score(y_test, y_pred)"
   ]
  },
  {
   "cell_type": "code",
   "execution_count": null,
   "metadata": {},
   "outputs": [],
   "source": []
  },
  {
   "cell_type": "code",
   "execution_count": null,
   "metadata": {},
   "outputs": [],
   "source": []
  },
  {
   "cell_type": "code",
   "execution_count": null,
   "metadata": {},
   "outputs": [],
   "source": []
  }
 ],
 "metadata": {
  "kernelspec": {
   "display_name": "Python 3",
   "language": "python",
   "name": "python3"
  },
  "language_info": {
   "codemirror_mode": {
    "name": "ipython",
    "version": 3
   },
   "file_extension": ".py",
   "mimetype": "text/x-python",
   "name": "python",
   "nbconvert_exporter": "python",
   "pygments_lexer": "ipython3",
   "version": "3.7.7"
  }
 },
 "nbformat": 4,
 "nbformat_minor": 4
}
