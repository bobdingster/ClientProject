{
 "cells": [
  {
   "cell_type": "code",
   "execution_count": 1,
   "metadata": {},
   "outputs": [],
   "source": [
    "# import libraries\n",
    "\n",
    "import pandas as pd\n",
    "import numpy as np\n",
    "import seaborn as sns\n",
    "import matplotlib.pyplot as plt\n",
    "from nltk.corpus import stopwords\n",
    "from sklearn.metrics import confusion_matrix, plot_confusion_matrix,\\\n",
    "                            accuracy_score, roc_curve, auc\n",
    "from sklearn.model_selection import train_test_split\n",
    "from sklearn.pipeline import Pipeline\n",
    "from sklearn.feature_extraction.text import TfidfVectorizer\n",
    "from sklearn.svm import SVC\n",
    "\n",
    "import warnings \n",
    "warnings.filterwarnings(\"ignore\")\n",
    "\n",
    "%matplotlib inline"
   ]
  },
  {
   "cell_type": "code",
   "execution_count": 2,
   "metadata": {},
   "outputs": [
    {
     "name": "stdout",
     "output_type": "stream",
     "text": [
      "(19143, 11)\n"
     ]
    },
    {
     "data": {
      "text/html": [
       "<div>\n",
       "<style scoped>\n",
       "    .dataframe tbody tr th:only-of-type {\n",
       "        vertical-align: middle;\n",
       "    }\n",
       "\n",
       "    .dataframe tbody tr th {\n",
       "        vertical-align: top;\n",
       "    }\n",
       "\n",
       "    .dataframe thead th {\n",
       "        text-align: right;\n",
       "    }\n",
       "</style>\n",
       "<table border=\"1\" class=\"dataframe\">\n",
       "  <thead>\n",
       "    <tr style=\"text-align: right;\">\n",
       "      <th></th>\n",
       "      <th>Unnamed: 0</th>\n",
       "      <th>id</th>\n",
       "      <th>user_name</th>\n",
       "      <th>lat</th>\n",
       "      <th>long</th>\n",
       "      <th>date</th>\n",
       "      <th>text</th>\n",
       "      <th>text_clean</th>\n",
       "      <th>n_sentence</th>\n",
       "      <th>n_words</th>\n",
       "      <th>label</th>\n",
       "    </tr>\n",
       "  </thead>\n",
       "  <tbody>\n",
       "    <tr>\n",
       "      <th>0</th>\n",
       "      <td>0</td>\n",
       "      <td>1303845642016497664</td>\n",
       "      <td>maxwell18191708</td>\n",
       "      <td>35.369139</td>\n",
       "      <td>-121.033126</td>\n",
       "      <td>2020-09-09 23:59:59+00:00</td>\n",
       "      <td>Oregon governor says towns have been ‘substant...</td>\n",
       "      <td>oregon governor say town have been substantial...</td>\n",
       "      <td>1</td>\n",
       "      <td>19</td>\n",
       "      <td>1</td>\n",
       "    </tr>\n",
       "    <tr>\n",
       "      <th>1</th>\n",
       "      <td>1</td>\n",
       "      <td>1304359517552095235</td>\n",
       "      <td>JoinDeepRock</td>\n",
       "      <td>35.507931</td>\n",
       "      <td>-121.352019</td>\n",
       "      <td>2020-09-11 10:01:57+00:00</td>\n",
       "      <td>96% Overwhelmingly Positive Reviews! Grab a fr...</td>\n",
       "      <td>overwhelmingly positive review  grab a frien...</td>\n",
       "      <td>2</td>\n",
       "      <td>15</td>\n",
       "      <td>0</td>\n",
       "    </tr>\n",
       "    <tr>\n",
       "      <th>2</th>\n",
       "      <td>2</td>\n",
       "      <td>1303845637851471872</td>\n",
       "      <td>SayWHARadio</td>\n",
       "      <td>36.390380</td>\n",
       "      <td>-118.941569</td>\n",
       "      <td>2020-09-09 23:59:59+00:00</td>\n",
       "      <td>‘Catastrophic’ wildfires may be deadliest in O...</td>\n",
       "      <td>catastrophic wildfire may be deadliest in oreg...</td>\n",
       "      <td>1</td>\n",
       "      <td>11</td>\n",
       "      <td>1</td>\n",
       "    </tr>\n",
       "    <tr>\n",
       "      <th>3</th>\n",
       "      <td>3</td>\n",
       "      <td>1303845628544520193</td>\n",
       "      <td>rankstr</td>\n",
       "      <td>34.979422</td>\n",
       "      <td>-119.251991</td>\n",
       "      <td>2020-09-09 23:59:56+00:00</td>\n",
       "      <td>SFGate: Thick wildfire smoke blocks sun, turns...</td>\n",
       "      <td>sfgate  thick wildfire smoke block sun  turn b...</td>\n",
       "      <td>1</td>\n",
       "      <td>13</td>\n",
       "      <td>1</td>\n",
       "    </tr>\n",
       "    <tr>\n",
       "      <th>4</th>\n",
       "      <td>4</td>\n",
       "      <td>1303845625713188865</td>\n",
       "      <td>zach_wilk</td>\n",
       "      <td>37.455476</td>\n",
       "      <td>-121.470958</td>\n",
       "      <td>2020-09-09 23:59:56+00:00</td>\n",
       "      <td>Still having a hard time processing that I had...</td>\n",
       "      <td>still having a hard time processing that i had...</td>\n",
       "      <td>3</td>\n",
       "      <td>37</td>\n",
       "      <td>1</td>\n",
       "    </tr>\n",
       "  </tbody>\n",
       "</table>\n",
       "</div>"
      ],
      "text/plain": [
       "   Unnamed: 0                   id        user_name        lat        long  \\\n",
       "0           0  1303845642016497664  maxwell18191708  35.369139 -121.033126   \n",
       "1           1  1304359517552095235     JoinDeepRock  35.507931 -121.352019   \n",
       "2           2  1303845637851471872      SayWHARadio  36.390380 -118.941569   \n",
       "3           3  1303845628544520193          rankstr  34.979422 -119.251991   \n",
       "4           4  1303845625713188865        zach_wilk  37.455476 -121.470958   \n",
       "\n",
       "                        date  \\\n",
       "0  2020-09-09 23:59:59+00:00   \n",
       "1  2020-09-11 10:01:57+00:00   \n",
       "2  2020-09-09 23:59:59+00:00   \n",
       "3  2020-09-09 23:59:56+00:00   \n",
       "4  2020-09-09 23:59:56+00:00   \n",
       "\n",
       "                                                text  \\\n",
       "0  Oregon governor says towns have been ‘substant...   \n",
       "1  96% Overwhelmingly Positive Reviews! Grab a fr...   \n",
       "2  ‘Catastrophic’ wildfires may be deadliest in O...   \n",
       "3  SFGate: Thick wildfire smoke blocks sun, turns...   \n",
       "4  Still having a hard time processing that I had...   \n",
       "\n",
       "                                          text_clean  n_sentence  n_words  \\\n",
       "0  oregon governor say town have been substantial...           1       19   \n",
       "1    overwhelmingly positive review  grab a frien...           2       15   \n",
       "2  catastrophic wildfire may be deadliest in oreg...           1       11   \n",
       "3  sfgate  thick wildfire smoke block sun  turn b...           1       13   \n",
       "4  still having a hard time processing that i had...           3       37   \n",
       "\n",
       "   label  \n",
       "0      1  \n",
       "1      0  \n",
       "2      1  \n",
       "3      1  \n",
       "4      1  "
      ]
     },
     "execution_count": 2,
     "metadata": {},
     "output_type": "execute_result"
    }
   ],
   "source": [
    "# read in csv\n",
    "\n",
    "df = pd.read_csv('../data/final_labeled.csv')\n",
    "\n",
    "print(df.shape)\n",
    "df.head()"
   ]
  },
  {
   "cell_type": "code",
   "execution_count": 3,
   "metadata": {},
   "outputs": [],
   "source": [
    "# set up X and y and train test split\n",
    "\n",
    "X = df['text_clean']\n",
    "y = df['label']\n",
    "\n",
    "X_train, X_test, y_train, y_test = train_test_split(X, y, test_size = .33, random_state = 42, stratify = y)"
   ]
  },
  {
   "cell_type": "code",
   "execution_count": 4,
   "metadata": {},
   "outputs": [
    {
     "name": "stdout",
     "output_type": "stream",
     "text": [
      "179\n",
      "219\n"
     ]
    }
   ],
   "source": [
    "## please swap out relevant words for your disaster accordingly here\n",
    "# create a custom stop words list\n",
    "\n",
    "relevant_words = ['earthquake', 'earthquakes', 'power', 'electricity', 'damage', 'tremor', 'wobble', 'quake', 'quakes',\n",
    "                  'collapse', 'tremble', 'rescue', 'seism', 'seismic', 'seismograph', 'shock', 'shocks', 'shake',\n",
    "                  'seismology', 'aftershock', 'aftershocks', 'magnitude', 'epicenter', 'fall', 'fell', 'falls',\n",
    "                  'tremors', 'trembles', 'shock wave', 'richter', 'richter scale', 'jolt', 'tragedy', 'tremblor',\n",
    "                  'shock waves', 'tremors', 'damages', 'sismo', 'disaster', 'tsunami']\n",
    "\n",
    "\n",
    "print(len(stopwords.words('english')))\n",
    "\n",
    "stop_words = stopwords.words('english') + relevant_words\n",
    "\n",
    "print(len(stop_words))"
   ]
  },
  {
   "cell_type": "code",
   "execution_count": 5,
   "metadata": {},
   "outputs": [],
   "source": [
    "# pipline for the model\n",
    "\n",
    "pipe_svc = Pipeline([\n",
    "                     ('tvec', TfidfVectorizer(max_features = 4000, stop_words = None, max_df = 0.85, min_df = 0.002, ngram_range = (1, 2))),\n",
    "                     ('svc', SVC(probability = True))\n",
    "                    ])"
   ]
  },
  {
   "cell_type": "code",
   "execution_count": 6,
   "metadata": {},
   "outputs": [
    {
     "data": {
      "text/plain": [
       "Pipeline(steps=[('tvec',\n",
       "                 TfidfVectorizer(max_df=0.85, max_features=4000, min_df=0.002,\n",
       "                                 ngram_range=(1, 2))),\n",
       "                ('svc', SVC(probability=True))])"
      ]
     },
     "execution_count": 6,
     "metadata": {},
     "output_type": "execute_result"
    }
   ],
   "source": [
    "# fit the training set\n",
    "\n",
    "pipe_svc.fit(X_train, y_train)"
   ]
  },
  {
   "cell_type": "code",
   "execution_count": 7,
   "metadata": {},
   "outputs": [
    {
     "data": {
      "text/plain": [
       "0.9954099398543843"
      ]
     },
     "execution_count": 7,
     "metadata": {},
     "output_type": "execute_result"
    }
   ],
   "source": [
    "# predictions\n",
    "\n",
    "y_preds = pipe_svc.predict(X_test)\n",
    "\n",
    "# score\n",
    "\n",
    "accuracy_score(y_test, y_preds)"
   ]
  },
  {
   "cell_type": "code",
   "execution_count": 8,
   "metadata": {},
   "outputs": [
    {
     "data": {
      "image/png": "[encoded data removed]",
      "text/plain": [
       "<Figure size 432x288 with 2 Axes>"
      ]
     },
     "metadata": {
      "needs_background": "light"
     },
     "output_type": "display_data"
    }
   ],
   "source": [
    "# confusion matrix values\n",
    "\n",
    "tn, fp, fn, tp = confusion_matrix(y_test, y_preds).ravel()\n",
    "\n",
    "# view confusion matrix\n",
    "\n",
    "labels = ['Non-disaster','Disaster']\n",
    "plot_confusion_matrix(pipe_svc, X_test, y_test, cmap = 'Blues', normalize = 'true')\n",
    "plt.xticks(ticks = [0, 1], labels = labels)\n",
    "plt.yticks(ticks = [0, 1], labels = labels)\n",
    "plt.savefig('../images/confusion_matrix.png');"
   ]
  },
  {
   "cell_type": "code",
   "execution_count": 9,
   "metadata": {},
   "outputs": [
    {
     "data": {
      "image/png": "[encoded data removed]",
      "text/plain": [
       "<Figure size 720x576 with 1 Axes>"
      ]
     },
     "metadata": {
      "needs_background": "light"
     },
     "output_type": "display_data"
    }
   ],
   "source": [
    "## plot AUC/ROC\n",
    "\n",
    "# calculate the fpr and tpr for all thresholds of the classification\n",
    "\n",
    "probs = pipe_svc.predict_proba(X_test)\n",
    "fpr, tpr, threshold = roc_curve(y_test, y_preds)\n",
    "roc_auc = auc(fpr, tpr)\n",
    "\n",
    "# https://scikit-learn.org/stable/auto_examples/model_selection/plot_roc.html\n",
    "\n",
    "plt.figure(figsize = (10, 8))\n",
    "plt.title('Receiver Operating Characteristic', size = 14)\n",
    "plt.plot(fpr, tpr, 'b', label = 'AUC = %0.2f' % roc_auc)\n",
    "plt.legend(loc = 'lower right')\n",
    "plt.plot([0, 1], [0, 1],'r--')\n",
    "plt.xlim([-0.1, 1.1])\n",
    "plt.ylim([-0.1, 1.1])\n",
    "plt.ylabel('True Positive Rate', size = 12)\n",
    "plt.xlabel('False Positive Rate', size = 12)\n",
    "plt.savefig('../images/auc_roc.png')"
   ]
  },
  {
   "cell_type": "code",
   "execution_count": null,
   "metadata": {},
   "outputs": [],
   "source": []
  }
 ],
 "metadata": {
  "kernelspec": {
   "display_name": "Python 3",
   "language": "python",
   "name": "python3"
  },
  "language_info": {
   "codemirror_mode": {
    "name": "ipython",
    "version": 3
   },
   "file_extension": ".py",
   "mimetype": "text/x-python",
   "name": "python",
   "nbconvert_exporter": "python",
   "pygments_lexer": "ipython3",
   "version": "3.7.7"
  }
 },
 "nbformat": 4,
 "nbformat_minor": 4
}
