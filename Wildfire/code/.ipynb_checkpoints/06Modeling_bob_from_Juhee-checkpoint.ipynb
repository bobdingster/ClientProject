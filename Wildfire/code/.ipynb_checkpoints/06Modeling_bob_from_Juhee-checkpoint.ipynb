{
 "cells": [
  {
   "cell_type": "code",
   "execution_count": 1,
   "metadata": {},
   "outputs": [],
   "source": [
    "# import libraries\n",
    "\n",
    "import pandas as pd\n",
    "import numpy as np\n",
    "import seaborn as sns\n",
    "import matplotlib.pyplot as plt\n",
    "from nltk.corpus import stopwords\n",
    "from sklearn.metrics import confusion_matrix, plot_confusion_matrix, accuracy_score\n",
    "from sklearn.model_selection import train_test_split, GridSearchCV, cross_val_score\n",
    "from sklearn.pipeline import Pipeline\n",
    "from sklearn.naive_bayes import MultinomialNB\n",
    "from sklearn.feature_extraction.text import CountVectorizer, TfidfVectorizer\n",
    "from sklearn.svm import SVC\n",
    "\n",
    "import warnings \n",
    "warnings.filterwarnings(\"ignore\")"
   ]
  },
  {
   "cell_type": "code",
   "execution_count": 2,
   "metadata": {},
   "outputs": [
    {
     "name": "stdout",
     "output_type": "stream",
     "text": [
      "(19999, 9)\n"
     ]
    },
    {
     "data": {
      "text/html": [
       "<div>\n",
       "<style scoped>\n",
       "    .dataframe tbody tr th:only-of-type {\n",
       "        vertical-align: middle;\n",
       "    }\n",
       "\n",
       "    .dataframe tbody tr th {\n",
       "        vertical-align: top;\n",
       "    }\n",
       "\n",
       "    .dataframe thead th {\n",
       "        text-align: right;\n",
       "    }\n",
       "</style>\n",
       "<table border=\"1\" class=\"dataframe\">\n",
       "  <thead>\n",
       "    <tr style=\"text-align: right;\">\n",
       "      <th></th>\n",
       "      <th>id</th>\n",
       "      <th>user_name</th>\n",
       "      <th>lat</th>\n",
       "      <th>long</th>\n",
       "      <th>date</th>\n",
       "      <th>text</th>\n",
       "      <th>text_clean</th>\n",
       "      <th>n_sentence</th>\n",
       "      <th>n_words</th>\n",
       "    </tr>\n",
       "  </thead>\n",
       "  <tbody>\n",
       "    <tr>\n",
       "      <th>0</th>\n",
       "      <td>1305657570774978560</td>\n",
       "      <td>FireandAviation</td>\n",
       "      <td>37.280386</td>\n",
       "      <td>-122.128109</td>\n",
       "      <td>2020-09-14 23:59:57+00:00</td>\n",
       "      <td>Smoke from California wildfires causes hazy sk...</td>\n",
       "      <td>smoke from california wildfire cause hazy sky ...</td>\n",
       "      <td>1</td>\n",
       "      <td>9</td>\n",
       "    </tr>\n",
       "    <tr>\n",
       "      <th>1</th>\n",
       "      <td>1304359517552095235</td>\n",
       "      <td>JoinDeepRock</td>\n",
       "      <td>36.052556</td>\n",
       "      <td>-119.406770</td>\n",
       "      <td>2020-09-11 10:01:57+00:00</td>\n",
       "      <td>96% Overwhelmingly Positive Reviews! Grab a fr...</td>\n",
       "      <td>overwhelmingly positive review  grab a frien...</td>\n",
       "      <td>2</td>\n",
       "      <td>15</td>\n",
       "    </tr>\n",
       "    <tr>\n",
       "      <th>2</th>\n",
       "      <td>1305657551703412736</td>\n",
       "      <td>matthew_paul17</td>\n",
       "      <td>35.839572</td>\n",
       "      <td>-122.243498</td>\n",
       "      <td>2020-09-14 23:59:52+00:00</td>\n",
       "      <td>So a 2-3 degree temperature difference is what...</td>\n",
       "      <td>so a   degree temperature difference is what c...</td>\n",
       "      <td>1</td>\n",
       "      <td>36</td>\n",
       "    </tr>\n",
       "    <tr>\n",
       "      <th>3</th>\n",
       "      <td>1305657540227850240</td>\n",
       "      <td>Josie95450522</td>\n",
       "      <td>34.897778</td>\n",
       "      <td>-119.722077</td>\n",
       "      <td>2020-09-14 23:59:50+00:00</td>\n",
       "      <td>@POTUS is right about the #wildfires Expert in...</td>\n",
       "      <td>potus is right about the wildfires expert inve...</td>\n",
       "      <td>2</td>\n",
       "      <td>39</td>\n",
       "    </tr>\n",
       "    <tr>\n",
       "      <th>4</th>\n",
       "      <td>1305657538281533440</td>\n",
       "      <td>Arqahn</td>\n",
       "      <td>38.370841</td>\n",
       "      <td>-120.107434</td>\n",
       "      <td>2020-09-14 23:59:49+00:00</td>\n",
       "      <td>Wildfires in California ARE caused by poor lan...</td>\n",
       "      <td>wildfire in california are caused by poor land...</td>\n",
       "      <td>1</td>\n",
       "      <td>9</td>\n",
       "    </tr>\n",
       "  </tbody>\n",
       "</table>\n",
       "</div>"
      ],
      "text/plain": [
       "                    id        user_name        lat        long  \\\n",
       "0  1305657570774978560  FireandAviation  37.280386 -122.128109   \n",
       "1  1304359517552095235     JoinDeepRock  36.052556 -119.406770   \n",
       "2  1305657551703412736   matthew_paul17  35.839572 -122.243498   \n",
       "3  1305657540227850240    Josie95450522  34.897778 -119.722077   \n",
       "4  1305657538281533440           Arqahn  38.370841 -120.107434   \n",
       "\n",
       "                        date  \\\n",
       "0  2020-09-14 23:59:57+00:00   \n",
       "1  2020-09-11 10:01:57+00:00   \n",
       "2  2020-09-14 23:59:52+00:00   \n",
       "3  2020-09-14 23:59:50+00:00   \n",
       "4  2020-09-14 23:59:49+00:00   \n",
       "\n",
       "                                                text  \\\n",
       "0  Smoke from California wildfires causes hazy sk...   \n",
       "1  96% Overwhelmingly Positive Reviews! Grab a fr...   \n",
       "2  So a 2-3 degree temperature difference is what...   \n",
       "3  @POTUS is right about the #wildfires Expert in...   \n",
       "4  Wildfires in California ARE caused by poor lan...   \n",
       "\n",
       "                                          text_clean  n_sentence  n_words  \n",
       "0  smoke from california wildfire cause hazy sky ...           1        9  \n",
       "1    overwhelmingly positive review  grab a frien...           2       15  \n",
       "2  so a   degree temperature difference is what c...           1       36  \n",
       "3  potus is right about the wildfires expert inve...           2       39  \n",
       "4  wildfire in california are caused by poor land...           1        9  "
      ]
     },
     "execution_count": 2,
     "metadata": {},
     "output_type": "execute_result"
    }
   ],
   "source": [
    "# read in csv\n",
    "\n",
    "df = pd.read_csv('../data/final.csv')\n",
    "\n",
    "print(df.shape)\n",
    "df.head()"
   ]
  },
  {
   "cell_type": "code",
   "execution_count": 3,
   "metadata": {},
   "outputs": [
    {
     "data": {
      "text/plain": [
       "id            0\n",
       "user_name     0\n",
       "lat           0\n",
       "long          0\n",
       "date          0\n",
       "text          0\n",
       "text_clean    0\n",
       "n_sentence    0\n",
       "n_words       0\n",
       "dtype: int64"
      ]
     },
     "execution_count": 3,
     "metadata": {},
     "output_type": "execute_result"
    }
   ],
   "source": [
    "# check null values\n",
    "\n",
    "df.isnull().sum()"
   ]
  },
  {
   "cell_type": "code",
   "execution_count": 4,
   "metadata": {},
   "outputs": [],
   "source": [
    "# about 3 percent of cleaned text are missing\n",
    "# it could be due to non-english tweets that I did not know how to process in cleaning stage \n",
    "# will drop these rows\n",
    "\n",
    "df.dropna(axis = 0, inplace = True)"
   ]
  },
  {
   "cell_type": "code",
   "execution_count": 5,
   "metadata": {},
   "outputs": [],
   "source": [
    "## make your own relevant words here\n",
    "# make a list of words that would automatically tag a word as relevant\n",
    "\n",
    "relevant_words = ['wildfire']"
   ]
  },
  {
   "cell_type": "code",
   "execution_count": 6,
   "metadata": {},
   "outputs": [],
   "source": [
    "# create a function to create a list of 1s and 0s\n",
    "\n",
    "def create_target(column):    \n",
    "    \n",
    "    labels = []\n",
    "    \n",
    "    # separate each row\n",
    "    for text in column:\n",
    "        \n",
    "        # initiate 0 as label\n",
    "        label = 0\n",
    "        \n",
    "        # iterate through words in relevant_words\n",
    "        for relevant_word in relevant_words:\n",
    "            \n",
    "            # if relevant_word is found in text, assign 1 as label\n",
    "            # stop comparing once assigned as 1, then append it to the list\n",
    "            if relevant_word in text:\n",
    "                label = 1\n",
    "                break\n",
    "        labels.append(label)\n",
    "        \n",
    "    return labels"
   ]
  },
  {
   "cell_type": "code",
   "execution_count": 7,
   "metadata": {},
   "outputs": [
    {
     "data": {
      "text/plain": [
       "0.4705235261763088"
      ]
     },
     "execution_count": 7,
     "metadata": {},
     "output_type": "execute_result"
    }
   ],
   "source": [
    "# check if the label is created as expected (if about 50%, then it's good!)\n",
    "\n",
    "np.mean(create_target(df['text_clean']))"
   ]
  },
  {
   "cell_type": "code",
   "execution_count": 8,
   "metadata": {},
   "outputs": [],
   "source": [
    "# assign a column in the dataframe to capture this information\n",
    "\n",
    "df['label'] = create_target(df['text_clean'])"
   ]
  },
  {
   "cell_type": "code",
   "execution_count": 9,
   "metadata": {},
   "outputs": [
    {
     "data": {
      "text/html": [
       "<div>\n",
       "<style scoped>\n",
       "    .dataframe tbody tr th:only-of-type {\n",
       "        vertical-align: middle;\n",
       "    }\n",
       "\n",
       "    .dataframe tbody tr th {\n",
       "        vertical-align: top;\n",
       "    }\n",
       "\n",
       "    .dataframe thead th {\n",
       "        text-align: right;\n",
       "    }\n",
       "</style>\n",
       "<table border=\"1\" class=\"dataframe\">\n",
       "  <thead>\n",
       "    <tr style=\"text-align: right;\">\n",
       "      <th></th>\n",
       "      <th>id</th>\n",
       "      <th>user_name</th>\n",
       "      <th>lat</th>\n",
       "      <th>long</th>\n",
       "      <th>date</th>\n",
       "      <th>text</th>\n",
       "      <th>text_clean</th>\n",
       "      <th>n_sentence</th>\n",
       "      <th>n_words</th>\n",
       "      <th>label</th>\n",
       "    </tr>\n",
       "  </thead>\n",
       "  <tbody>\n",
       "    <tr>\n",
       "      <th>0</th>\n",
       "      <td>1305657570774978560</td>\n",
       "      <td>FireandAviation</td>\n",
       "      <td>37.280386</td>\n",
       "      <td>-122.128109</td>\n",
       "      <td>2020-09-14 23:59:57+00:00</td>\n",
       "      <td>Smoke from California wildfires causes hazy sk...</td>\n",
       "      <td>smoke from california wildfire cause hazy sky ...</td>\n",
       "      <td>1</td>\n",
       "      <td>9</td>\n",
       "      <td>1</td>\n",
       "    </tr>\n",
       "    <tr>\n",
       "      <th>1</th>\n",
       "      <td>1304359517552095235</td>\n",
       "      <td>JoinDeepRock</td>\n",
       "      <td>36.052556</td>\n",
       "      <td>-119.406770</td>\n",
       "      <td>2020-09-11 10:01:57+00:00</td>\n",
       "      <td>96% Overwhelmingly Positive Reviews! Grab a fr...</td>\n",
       "      <td>overwhelmingly positive review  grab a frien...</td>\n",
       "      <td>2</td>\n",
       "      <td>15</td>\n",
       "      <td>0</td>\n",
       "    </tr>\n",
       "    <tr>\n",
       "      <th>2</th>\n",
       "      <td>1305657551703412736</td>\n",
       "      <td>matthew_paul17</td>\n",
       "      <td>35.839572</td>\n",
       "      <td>-122.243498</td>\n",
       "      <td>2020-09-14 23:59:52+00:00</td>\n",
       "      <td>So a 2-3 degree temperature difference is what...</td>\n",
       "      <td>so a   degree temperature difference is what c...</td>\n",
       "      <td>1</td>\n",
       "      <td>36</td>\n",
       "      <td>1</td>\n",
       "    </tr>\n",
       "    <tr>\n",
       "      <th>3</th>\n",
       "      <td>1305657540227850240</td>\n",
       "      <td>Josie95450522</td>\n",
       "      <td>34.897778</td>\n",
       "      <td>-119.722077</td>\n",
       "      <td>2020-09-14 23:59:50+00:00</td>\n",
       "      <td>@POTUS is right about the #wildfires Expert in...</td>\n",
       "      <td>potus is right about the wildfires expert inve...</td>\n",
       "      <td>2</td>\n",
       "      <td>39</td>\n",
       "      <td>1</td>\n",
       "    </tr>\n",
       "    <tr>\n",
       "      <th>4</th>\n",
       "      <td>1305657538281533440</td>\n",
       "      <td>Arqahn</td>\n",
       "      <td>38.370841</td>\n",
       "      <td>-120.107434</td>\n",
       "      <td>2020-09-14 23:59:49+00:00</td>\n",
       "      <td>Wildfires in California ARE caused by poor lan...</td>\n",
       "      <td>wildfire in california are caused by poor land...</td>\n",
       "      <td>1</td>\n",
       "      <td>9</td>\n",
       "      <td>1</td>\n",
       "    </tr>\n",
       "  </tbody>\n",
       "</table>\n",
       "</div>"
      ],
      "text/plain": [
       "                    id        user_name        lat        long  \\\n",
       "0  1305657570774978560  FireandAviation  37.280386 -122.128109   \n",
       "1  1304359517552095235     JoinDeepRock  36.052556 -119.406770   \n",
       "2  1305657551703412736   matthew_paul17  35.839572 -122.243498   \n",
       "3  1305657540227850240    Josie95450522  34.897778 -119.722077   \n",
       "4  1305657538281533440           Arqahn  38.370841 -120.107434   \n",
       "\n",
       "                        date  \\\n",
       "0  2020-09-14 23:59:57+00:00   \n",
       "1  2020-09-11 10:01:57+00:00   \n",
       "2  2020-09-14 23:59:52+00:00   \n",
       "3  2020-09-14 23:59:50+00:00   \n",
       "4  2020-09-14 23:59:49+00:00   \n",
       "\n",
       "                                                text  \\\n",
       "0  Smoke from California wildfires causes hazy sk...   \n",
       "1  96% Overwhelmingly Positive Reviews! Grab a fr...   \n",
       "2  So a 2-3 degree temperature difference is what...   \n",
       "3  @POTUS is right about the #wildfires Expert in...   \n",
       "4  Wildfires in California ARE caused by poor lan...   \n",
       "\n",
       "                                          text_clean  n_sentence  n_words  \\\n",
       "0  smoke from california wildfire cause hazy sky ...           1        9   \n",
       "1    overwhelmingly positive review  grab a frien...           2       15   \n",
       "2  so a   degree temperature difference is what c...           1       36   \n",
       "3  potus is right about the wildfires expert inve...           2       39   \n",
       "4  wildfire in california are caused by poor land...           1        9   \n",
       "\n",
       "   label  \n",
       "0      1  \n",
       "1      0  \n",
       "2      1  \n",
       "3      1  \n",
       "4      1  "
      ]
     },
     "execution_count": 9,
     "metadata": {},
     "output_type": "execute_result"
    }
   ],
   "source": [
    "df.head()"
   ]
  },
  {
   "cell_type": "code",
   "execution_count": 10,
   "metadata": {},
   "outputs": [],
   "source": [
    "# save this to a csv file\n",
    "\n",
    "df.to_csv('../data/final_labeled.csv')"
   ]
  },
  {
   "cell_type": "code",
   "execution_count": 11,
   "metadata": {},
   "outputs": [
    {
     "data": {
      "text/plain": [
       "0    0.529476\n",
       "1    0.470524\n",
       "Name: label, dtype: float64"
      ]
     },
     "execution_count": 11,
     "metadata": {},
     "output_type": "execute_result"
    }
   ],
   "source": [
    "# define baseline accuracy\n",
    "\n",
    "df['label'].value_counts(normalize = True)"
   ]
  },
  {
   "cell_type": "markdown",
   "metadata": {},
   "source": [
    "## Modeling"
   ]
  },
  {
   "cell_type": "code",
   "execution_count": 12,
   "metadata": {},
   "outputs": [],
   "source": [
    "# set up X and y and train test split\n",
    "\n",
    "X = df['text_clean']\n",
    "y = df['label']\n",
    "\n",
    "X_train, X_test, y_train, y_test = train_test_split(X, y, test_size = .33, random_state = 42, stratify = y)"
   ]
  },
  {
   "cell_type": "code",
   "execution_count": 13,
   "metadata": {},
   "outputs": [
    {
     "name": "stdout",
     "output_type": "stream",
     "text": [
      "179\n",
      "180\n"
     ]
    }
   ],
   "source": [
    "# create a custom stop words list\n",
    "\n",
    "print(len(stopwords.words('english')))\n",
    "\n",
    "stop_words = stopwords.words('english') + relevant_words\n",
    "\n",
    "print(len(stop_words))"
   ]
  },
  {
   "cell_type": "markdown",
   "metadata": {},
   "source": [
    "### CountVectorizer()\n",
    "#### Multinomial Naive Bayes and Support Vector Machine"
   ]
  },
  {
   "cell_type": "code",
   "execution_count": 14,
   "metadata": {},
   "outputs": [],
   "source": [
    "# set 2 pipelines with: 1. Multinomial Bayes 2. Support Vector Machine\n",
    "\n",
    "pipeline_mb = Pipeline([\n",
    "                       ('cvec', CountVectorizer()),\n",
    "                       ('mb', MultinomialNB())\n",
    "                       ])\n",
    "\n",
    "pipeline_svc = Pipeline([\n",
    "                        ('cvec', CountVectorizer()),\n",
    "                        ('svc', SVC())\n",
    "                        ])"
   ]
  },
  {
   "cell_type": "code",
   "execution_count": 15,
   "metadata": {},
   "outputs": [],
   "source": [
    "# set up a dictionary to store the best parameters\n",
    "\n",
    "model_mb_params = {}\n",
    "count_mb = 0\n",
    "\n",
    "model_svc_params = {}\n",
    "count_svc = 0"
   ]
  },
  {
   "cell_type": "code",
   "execution_count": 16,
   "metadata": {},
   "outputs": [],
   "source": [
    "# set up parameters\n",
    "\n",
    "pipe_params = {\n",
    "    'cvec__max_features': [3000, 4000],\n",
    "    'cvec__min_df': [2, 3],\n",
    "    'cvec__max_df': [.85, .90],\n",
    "    'cvec__ngram_range': [(1, 1), (1, 2)],\n",
    "    'cvec__stop_words': [stop_words]\n",
    "}"
   ]
  },
  {
   "cell_type": "code",
   "execution_count": 17,
   "metadata": {},
   "outputs": [],
   "source": [
    "# instantiate GridSearchCV - NaiveBayes\n",
    "\n",
    "gs_mb = GridSearchCV(pipeline_mb, \n",
    "                     param_grid = pipe_params, \n",
    "                     cv = 3) \n",
    "\n",
    "# instantiate GridSearchCV - SVC\n",
    "\n",
    "gs_svc = GridSearchCV(pipeline_svc, \n",
    "                      param_grid = pipe_params, \n",
    "                      cv = 3) "
   ]
  },
  {
   "cell_type": "code",
   "execution_count": 18,
   "metadata": {},
   "outputs": [],
   "source": [
    "# increase counter as we put in different parameters\n",
    "\n",
    "count_mb += 1\n",
    "\n",
    "# fit the training set\n",
    "\n",
    "gs_mb.fit(X_train, y_train)\n",
    "\n",
    "# best score is not captured in parameters -> create a key 'score' to store the info\n",
    "\n",
    "gs_mb.best_params_['score'] = gs_mb.best_score_\n",
    "\n",
    "model_mb_params[f'model_{count_mb}'] = gs_mb.best_params_\n",
    "\n",
    "# dictionary to a dataframe\n",
    "\n",
    "model_mb_df = pd.DataFrame.from_dict(model_mb_params, orient = 'index')"
   ]
  },
  {
   "cell_type": "code",
   "execution_count": 19,
   "metadata": {},
   "outputs": [
    {
     "data": {
      "text/html": [
       "<div>\n",
       "<style scoped>\n",
       "    .dataframe tbody tr th:only-of-type {\n",
       "        vertical-align: middle;\n",
       "    }\n",
       "\n",
       "    .dataframe tbody tr th {\n",
       "        vertical-align: top;\n",
       "    }\n",
       "\n",
       "    .dataframe thead th {\n",
       "        text-align: right;\n",
       "    }\n",
       "</style>\n",
       "<table border=\"1\" class=\"dataframe\">\n",
       "  <thead>\n",
       "    <tr style=\"text-align: right;\">\n",
       "      <th></th>\n",
       "      <th>cvec__max_df</th>\n",
       "      <th>cvec__max_features</th>\n",
       "      <th>cvec__min_df</th>\n",
       "      <th>cvec__ngram_range</th>\n",
       "      <th>cvec__stop_words</th>\n",
       "      <th>score</th>\n",
       "    </tr>\n",
       "  </thead>\n",
       "  <tbody>\n",
       "    <tr>\n",
       "      <th>model_1</th>\n",
       "      <td>0.85</td>\n",
       "      <td>4000</td>\n",
       "      <td>2</td>\n",
       "      <td>(1, 2)</td>\n",
       "      <td>[i, me, my, myself, we, our, ours, ourselves, ...</td>\n",
       "      <td>0.919098</td>\n",
       "    </tr>\n",
       "  </tbody>\n",
       "</table>\n",
       "</div>"
      ],
      "text/plain": [
       "         cvec__max_df  cvec__max_features  cvec__min_df cvec__ngram_range  \\\n",
       "model_1          0.85                4000             2            (1, 2)   \n",
       "\n",
       "                                          cvec__stop_words     score  \n",
       "model_1  [i, me, my, myself, we, our, ours, ourselves, ...  0.919098  "
      ]
     },
     "execution_count": 19,
     "metadata": {},
     "output_type": "execute_result"
    }
   ],
   "source": [
    "model_mb_df"
   ]
  },
  {
   "cell_type": "code",
   "execution_count": 20,
   "metadata": {},
   "outputs": [],
   "source": [
    "# increase counter as we put in different parameters\n",
    "\n",
    "count_svc += 1\n",
    "\n",
    "# fit the training set\n",
    "\n",
    "gs_svc.fit(X_train, y_train)\n",
    "\n",
    "# best score is not captured in parameters -> create a key 'score' to store the info\n",
    "\n",
    "gs_svc.best_params_['score'] = gs_svc.best_score_\n",
    "\n",
    "model_svc_params[f'model_{count_svc}'] = gs_svc.best_params_\n",
    "\n",
    "# dictionary to a dataframe\n",
    "\n",
    "model_svc_df = pd.DataFrame.from_dict(model_svc_params, orient = 'index')"
   ]
  },
  {
   "cell_type": "code",
   "execution_count": 21,
   "metadata": {},
   "outputs": [
    {
     "data": {
      "text/html": [
       "<div>\n",
       "<style scoped>\n",
       "    .dataframe tbody tr th:only-of-type {\n",
       "        vertical-align: middle;\n",
       "    }\n",
       "\n",
       "    .dataframe tbody tr th {\n",
       "        vertical-align: top;\n",
       "    }\n",
       "\n",
       "    .dataframe thead th {\n",
       "        text-align: right;\n",
       "    }\n",
       "</style>\n",
       "<table border=\"1\" class=\"dataframe\">\n",
       "  <thead>\n",
       "    <tr style=\"text-align: right;\">\n",
       "      <th></th>\n",
       "      <th>cvec__max_df</th>\n",
       "      <th>cvec__max_features</th>\n",
       "      <th>cvec__min_df</th>\n",
       "      <th>cvec__ngram_range</th>\n",
       "      <th>cvec__stop_words</th>\n",
       "      <th>score</th>\n",
       "    </tr>\n",
       "  </thead>\n",
       "  <tbody>\n",
       "    <tr>\n",
       "      <th>model_1</th>\n",
       "      <td>0.85</td>\n",
       "      <td>4000</td>\n",
       "      <td>3</td>\n",
       "      <td>(1, 2)</td>\n",
       "      <td>[i, me, my, myself, we, our, ours, ourselves, ...</td>\n",
       "      <td>0.936712</td>\n",
       "    </tr>\n",
       "  </tbody>\n",
       "</table>\n",
       "</div>"
      ],
      "text/plain": [
       "         cvec__max_df  cvec__max_features  cvec__min_df cvec__ngram_range  \\\n",
       "model_1          0.85                4000             3            (1, 2)   \n",
       "\n",
       "                                          cvec__stop_words     score  \n",
       "model_1  [i, me, my, myself, we, our, ours, ourselves, ...  0.936712  "
      ]
     },
     "execution_count": 21,
     "metadata": {},
     "output_type": "execute_result"
    }
   ],
   "source": [
    "model_svc_df"
   ]
  },
  {
   "cell_type": "code",
   "execution_count": 22,
   "metadata": {},
   "outputs": [
    {
     "name": "stdout",
     "output_type": "stream",
     "text": [
      "Multinomial Naive Bayes: 0.935144413762221\n",
      "\n",
      "SVC: 0.9761922531532203\n"
     ]
    }
   ],
   "source": [
    "# train set score\n",
    "\n",
    "print(f'Multinomial Naive Bayes: {gs_mb.score(X_train, y_train)}')\n",
    "print(f'\\nSVC: {gs_svc.score(X_train, y_train)}')"
   ]
  },
  {
   "cell_type": "code",
   "execution_count": 23,
   "metadata": {},
   "outputs": [
    {
     "name": "stdout",
     "output_type": "stream",
     "text": [
      "Multinomial Naive Bayes: 0.9177272727272727\n",
      "\n",
      "SVC: 0.9407575757575758\n"
     ]
    }
   ],
   "source": [
    "# test set score\n",
    "\n",
    "print(f'Multinomial Naive Bayes: {gs_mb.score(X_test, y_test)}')\n",
    "print(f'\\nSVC: {gs_svc.score(X_test, y_test)}')"
   ]
  },
  {
   "cell_type": "code",
   "execution_count": 24,
   "metadata": {},
   "outputs": [
    {
     "name": "stdout",
     "output_type": "stream",
     "text": [
      "Multinomial Naive Bayes: \n",
      "{'cvec__max_df': 0.85, 'cvec__max_features': 4000, 'cvec__min_df': 2, 'cvec__ngram_range': (1, 2), 'cvec__stop_words': ['i', 'me', 'my', 'myself', 'we', 'our', 'ours', 'ourselves', 'you', \"you're\", \"you've\", \"you'll\", \"you'd\", 'your', 'yours', 'yourself', 'yourselves', 'he', 'him', 'his', 'himself', 'she', \"she's\", 'her', 'hers', 'herself', 'it', \"it's\", 'its', 'itself', 'they', 'them', 'their', 'theirs', 'themselves', 'what', 'which', 'who', 'whom', 'this', 'that', \"that'll\", 'these', 'those', 'am', 'is', 'are', 'was', 'were', 'be', 'been', 'being', 'have', 'has', 'had', 'having', 'do', 'does', 'did', 'doing', 'a', 'an', 'the', 'and', 'but', 'if', 'or', 'because', 'as', 'until', 'while', 'of', 'at', 'by', 'for', 'with', 'about', 'against', 'between', 'into', 'through', 'during', 'before', 'after', 'above', 'below', 'to', 'from', 'up', 'down', 'in', 'out', 'on', 'off', 'over', 'under', 'again', 'further', 'then', 'once', 'here', 'there', 'when', 'where', 'why', 'how', 'all', 'any', 'both', 'each', 'few', 'more', 'most', 'other', 'some', 'such', 'no', 'nor', 'not', 'only', 'own', 'same', 'so', 'than', 'too', 'very', 's', 't', 'can', 'will', 'just', 'don', \"don't\", 'should', \"should've\", 'now', 'd', 'll', 'm', 'o', 're', 've', 'y', 'ain', 'aren', \"aren't\", 'couldn', \"couldn't\", 'didn', \"didn't\", 'doesn', \"doesn't\", 'hadn', \"hadn't\", 'hasn', \"hasn't\", 'haven', \"haven't\", 'isn', \"isn't\", 'ma', 'mightn', \"mightn't\", 'mustn', \"mustn't\", 'needn', \"needn't\", 'shan', \"shan't\", 'shouldn', \"shouldn't\", 'wasn', \"wasn't\", 'weren', \"weren't\", 'won', \"won't\", 'wouldn', \"wouldn't\", 'wildfire'], 'score': 0.9190984337113423}\n",
      "\n",
      "SVC: \n",
      "{'cvec__max_df': 0.85, 'cvec__max_features': 4000, 'cvec__min_df': 3, 'cvec__ngram_range': (1, 2), 'cvec__stop_words': ['i', 'me', 'my', 'myself', 'we', 'our', 'ours', 'ourselves', 'you', \"you're\", \"you've\", \"you'll\", \"you'd\", 'your', 'yours', 'yourself', 'yourselves', 'he', 'him', 'his', 'himself', 'she', \"she's\", 'her', 'hers', 'herself', 'it', \"it's\", 'its', 'itself', 'they', 'them', 'their', 'theirs', 'themselves', 'what', 'which', 'who', 'whom', 'this', 'that', \"that'll\", 'these', 'those', 'am', 'is', 'are', 'was', 'were', 'be', 'been', 'being', 'have', 'has', 'had', 'having', 'do', 'does', 'did', 'doing', 'a', 'an', 'the', 'and', 'but', 'if', 'or', 'because', 'as', 'until', 'while', 'of', 'at', 'by', 'for', 'with', 'about', 'against', 'between', 'into', 'through', 'during', 'before', 'after', 'above', 'below', 'to', 'from', 'up', 'down', 'in', 'out', 'on', 'off', 'over', 'under', 'again', 'further', 'then', 'once', 'here', 'there', 'when', 'where', 'why', 'how', 'all', 'any', 'both', 'each', 'few', 'more', 'most', 'other', 'some', 'such', 'no', 'nor', 'not', 'only', 'own', 'same', 'so', 'than', 'too', 'very', 's', 't', 'can', 'will', 'just', 'don', \"don't\", 'should', \"should've\", 'now', 'd', 'll', 'm', 'o', 're', 've', 'y', 'ain', 'aren', \"aren't\", 'couldn', \"couldn't\", 'didn', \"didn't\", 'doesn', \"doesn't\", 'hadn', \"hadn't\", 'hasn', \"hasn't\", 'haven', \"haven't\", 'isn', \"isn't\", 'ma', 'mightn', \"mightn't\", 'mustn', \"mustn't\", 'needn', \"needn't\", 'shan', \"shan't\", 'shouldn', \"shouldn't\", 'wasn', \"wasn't\", 'weren', \"weren't\", 'won', \"won't\", 'wouldn', \"wouldn't\", 'wildfire'], 'score': 0.9367118334372452}\n"
     ]
    }
   ],
   "source": [
    "# find the best parameters for both models\n",
    "\n",
    "print(f'Multinomial Naive Bayes: \\n{gs_mb.best_params_}')\n",
    "print(f'\\nSVC: \\n{gs_svc.best_params_}')"
   ]
  },
  {
   "cell_type": "code",
   "execution_count": 25,
   "metadata": {
    "scrolled": true
   },
   "outputs": [
    {
     "name": "stdout",
     "output_type": "stream",
     "text": [
      "Multinomial Naive Bayes: \n",
      "Pipeline(steps=[('cvec',\n",
      "                 CountVectorizer(max_df=0.85, max_features=4000, min_df=2,\n",
      "                                 ngram_range=(1, 2),\n",
      "                                 stop_words=['i', 'me', 'my', 'myself', 'we',\n",
      "                                             'our', 'ours', 'ourselves', 'you',\n",
      "                                             \"you're\", \"you've\", \"you'll\",\n",
      "                                             \"you'd\", 'your', 'yours',\n",
      "                                             'yourself', 'yourselves', 'he',\n",
      "                                             'him', 'his', 'himself', 'she',\n",
      "                                             \"she's\", 'her', 'hers', 'herself',\n",
      "                                             'it', \"it's\", 'its', 'itself', ...])),\n",
      "                ('mb', MultinomialNB())])\n",
      "\n",
      "SVC: \n",
      "Pipeline(steps=[('cvec',\n",
      "                 CountVectorizer(max_df=0.85, max_features=4000, min_df=3,\n",
      "                                 ngram_range=(1, 2),\n",
      "                                 stop_words=['i', 'me', 'my', 'myself', 'we',\n",
      "                                             'our', 'ours', 'ourselves', 'you',\n",
      "                                             \"you're\", \"you've\", \"you'll\",\n",
      "                                             \"you'd\", 'your', 'yours',\n",
      "                                             'yourself', 'yourselves', 'he',\n",
      "                                             'him', 'his', 'himself', 'she',\n",
      "                                             \"she's\", 'her', 'hers', 'herself',\n",
      "                                             'it', \"it's\", 'its', 'itself', ...])),\n",
      "                ('svc', SVC())])\n"
     ]
    }
   ],
   "source": [
    "# find the best estimators for both models\n",
    "\n",
    "print(f'Multinomial Naive Bayes: \\n{gs_mb.best_estimator_}')\n",
    "print(f'\\nSVC: \\n{gs_svc.best_estimator_}')"
   ]
  },
  {
   "cell_type": "code",
   "execution_count": 34,
   "metadata": {},
   "outputs": [],
   "source": [
    "# predictions for Naive Bayes\n",
    "\n",
    "y_preds = gs_mb.predict(X_test)\n",
    "\n",
    "# confusion matrix values\n",
    "\n",
    "tn, fp, fn, tp = confusion_matrix(y_test, y_preds).ravel()"
   ]
  },
  {
   "cell_type": "code",
   "execution_count": 35,
   "metadata": {},
   "outputs": [
    {
     "name": "stdout",
     "output_type": "stream",
     "text": [
      "Accuracy: 0.9177272727272727\n",
      "Specificity: 0.936480686695279\n",
      "Sensitivity: 0.8966183574879227\n",
      "Precision 0.9261477045908184\n"
     ]
    }
   ],
   "source": [
    "spec = tn / (tn + fp)\n",
    "sens = tp /(tp + fn)\n",
    "acc = (tp + tn)/(tn + fp + fn + tp)\n",
    "prec = tp / (tp + fp)\n",
    "\n",
    "print('Accuracy:', acc)\n",
    "print('Specificity:', spec)\n",
    "print('Sensitivity:', sens)\n",
    "print('Precision', prec)"
   ]
  },
  {
   "cell_type": "code",
   "execution_count": 26,
   "metadata": {},
   "outputs": [],
   "source": [
    "# predictions for svc\n",
    "\n",
    "y_preds = gs_svc.predict(X_test)\n",
    "\n",
    "# confusion matrix values\n",
    "\n",
    "tn, fp, fn, tp = confusion_matrix(y_test, y_preds).ravel()"
   ]
  },
  {
   "cell_type": "code",
   "execution_count": 27,
   "metadata": {},
   "outputs": [
    {
     "data": {
      "image/png": "[encoded data removed]",
      "text/plain": [
       "<Figure size 432x288 with 2 Axes>"
      ]
     },
     "metadata": {
      "needs_background": "light"
     },
     "output_type": "display_data"
    }
   ],
   "source": [
    "# view confusion matrix\n",
    "\n",
    "plot_confusion_matrix(gs_svc, X_test, y_test, cmap = 'Blues', normalize = 'true');"
   ]
  },
  {
   "cell_type": "code",
   "execution_count": 33,
   "metadata": {},
   "outputs": [
    {
     "name": "stdout",
     "output_type": "stream",
     "text": [
      "Accuracy: 0.9407575757575758\n",
      "Specificity: 0.9753934191702432\n",
      "Sensitivity: 0.9017713365539453\n",
      "Precision 0.9702009702009702\n"
     ]
    }
   ],
   "source": [
    "spec = tn / (tn + fp)\n",
    "sens = tp /(tp + fn)\n",
    "acc = (tp + tn)/(tn + fp + fn + tp)\n",
    "prec = tp / (tp + fp)\n",
    "\n",
    "print('Accuracy:', acc)\n",
    "print('Specificity:', spec)\n",
    "print('Sensitivity:', sens)\n",
    "print('Precision', prec)"
   ]
  },
  {
   "cell_type": "markdown",
   "metadata": {},
   "source": [
    "### TfidfVectorizer()\n",
    "#### Multinomial Naive Bayes and Support Vector Machine"
   ]
  },
  {
   "cell_type": "code",
   "execution_count": null,
   "metadata": {},
   "outputs": [],
   "source": []
  },
  {
   "cell_type": "code",
   "execution_count": 28,
   "metadata": {},
   "outputs": [],
   "source": [
    "# set up 2 pipelines with: 1. Multinomial Naive Bayes 2. SVC\n",
    "\n",
    "pipe_mb_t = Pipeline([\n",
    "                      ('tvec', TfidfVectorizer()),\n",
    "                      ('mb', MultinomialNB())\n",
    "                     ])\n",
    "\n",
    "pipe_svc_t = Pipeline([\n",
    "                       ('tvec', TfidfVectorizer()),\n",
    "                       ('svc', SVC())\n",
    "                      ])"
   ]
  },
  {
   "cell_type": "code",
   "execution_count": 29,
   "metadata": {},
   "outputs": [],
   "source": [
    "# set up a dictionary to store the best parameters\n",
    "\n",
    "t_mb_params = {}\n",
    "t_count_mb = 0\n",
    "\n",
    "t_svc_params = {}\n",
    "t_count_svc = 0"
   ]
  },
  {
   "cell_type": "code",
   "execution_count": 36,
   "metadata": {},
   "outputs": [],
   "source": [
    "# search over the following values of hyperparameters:\n",
    "\n",
    "pipe_tvec_params = {\n",
    "    'tvec__max_features': [3000, 4000],\n",
    "    'tvec__stop_words': [stop_words],\n",
    "    'tvec__ngram_range': [(1, 1), (1, 2)],\n",
    "    'tvec__min_df': [0.001, 0.002],\n",
    "    'tvec__max_df': [0.85, 0.90]\n",
    "}"
   ]
  },
  {
   "cell_type": "code",
   "execution_count": 37,
   "metadata": {},
   "outputs": [],
   "source": [
    "# instantiate GridSearchCV\n",
    "\n",
    "gs_mb_t = GridSearchCV(pipe_mb_t,\n",
    "                       param_grid = pipe_tvec_params,\n",
    "                       cv = 3)\n",
    "\n",
    "gs_svc_t = GridSearchCV(pipe_svc_t,\n",
    "                        param_grid = pipe_tvec_params,\n",
    "                        cv = 3)"
   ]
  },
  {
   "cell_type": "code",
   "execution_count": 38,
   "metadata": {},
   "outputs": [],
   "source": [
    "# increase counter as we put in different parameters\n",
    "\n",
    "t_count_mb += 1\n",
    "\n",
    "# fit the training set\n",
    "\n",
    "gs_mb_t.fit(X_train, y_train)\n",
    "\n",
    "# best score is not captured in parameters -> create a key 'score' to store the info\n",
    "\n",
    "gs_mb_t.best_params_['score'] = gs_mb_t.best_score_\n",
    "\n",
    "t_mb_params[f'model_{t_count_mb}'] = gs_mb_t.best_params_\n",
    "\n",
    "# dictionary to a dataframe\n",
    "\n",
    "t_mb_df = pd.DataFrame.from_dict(t_mb_params, orient = 'index')"
   ]
  },
  {
   "cell_type": "code",
   "execution_count": 39,
   "metadata": {},
   "outputs": [
    {
     "data": {
      "text/html": [
       "<div>\n",
       "<style scoped>\n",
       "    .dataframe tbody tr th:only-of-type {\n",
       "        vertical-align: middle;\n",
       "    }\n",
       "\n",
       "    .dataframe tbody tr th {\n",
       "        vertical-align: top;\n",
       "    }\n",
       "\n",
       "    .dataframe thead th {\n",
       "        text-align: right;\n",
       "    }\n",
       "</style>\n",
       "<table border=\"1\" class=\"dataframe\">\n",
       "  <thead>\n",
       "    <tr style=\"text-align: right;\">\n",
       "      <th></th>\n",
       "      <th>tvec__max_df</th>\n",
       "      <th>tvec__max_features</th>\n",
       "      <th>tvec__min_df</th>\n",
       "      <th>tvec__ngram_range</th>\n",
       "      <th>tvec__stop_words</th>\n",
       "      <th>score</th>\n",
       "    </tr>\n",
       "  </thead>\n",
       "  <tbody>\n",
       "    <tr>\n",
       "      <th>model_1</th>\n",
       "      <td>0.85</td>\n",
       "      <td>3000</td>\n",
       "      <td>0.001</td>\n",
       "      <td>(1, 2)</td>\n",
       "      <td>[i, me, my, myself, we, our, ours, ourselves, ...</td>\n",
       "      <td>0.90753</td>\n",
       "    </tr>\n",
       "  </tbody>\n",
       "</table>\n",
       "</div>"
      ],
      "text/plain": [
       "         tvec__max_df  tvec__max_features  tvec__min_df tvec__ngram_range  \\\n",
       "model_1          0.85                3000         0.001            (1, 2)   \n",
       "\n",
       "                                          tvec__stop_words    score  \n",
       "model_1  [i, me, my, myself, we, our, ours, ourselves, ...  0.90753  "
      ]
     },
     "execution_count": 39,
     "metadata": {},
     "output_type": "execute_result"
    }
   ],
   "source": [
    "t_mb_df"
   ]
  },
  {
   "cell_type": "code",
   "execution_count": 40,
   "metadata": {},
   "outputs": [],
   "source": [
    "# increase counter as we put in different parameters\n",
    "\n",
    "t_count_svc += 1\n",
    "\n",
    "# fit the training set\n",
    "\n",
    "gs_svc_t.fit(X_train, y_train)\n",
    "\n",
    "# best score is not captured in parameters -> create a key 'score' to store the info\n",
    "\n",
    "gs_svc_t.best_params_['score'] = gs_svc_t.best_score_\n",
    "\n",
    "t_svc_params[f'model_{t_count_svc}'] = gs_svc_t.best_params_\n",
    "\n",
    "# dictionary to a dataframe\n",
    "\n",
    "t_svc_df = pd.DataFrame.from_dict(t_svc_params, orient = 'index')"
   ]
  },
  {
   "cell_type": "code",
   "execution_count": 41,
   "metadata": {},
   "outputs": [
    {
     "data": {
      "text/html": [
       "<div>\n",
       "<style scoped>\n",
       "    .dataframe tbody tr th:only-of-type {\n",
       "        vertical-align: middle;\n",
       "    }\n",
       "\n",
       "    .dataframe tbody tr th {\n",
       "        vertical-align: top;\n",
       "    }\n",
       "\n",
       "    .dataframe thead th {\n",
       "        text-align: right;\n",
       "    }\n",
       "</style>\n",
       "<table border=\"1\" class=\"dataframe\">\n",
       "  <thead>\n",
       "    <tr style=\"text-align: right;\">\n",
       "      <th></th>\n",
       "      <th>tvec__max_df</th>\n",
       "      <th>tvec__max_features</th>\n",
       "      <th>tvec__min_df</th>\n",
       "      <th>tvec__ngram_range</th>\n",
       "      <th>tvec__stop_words</th>\n",
       "      <th>score</th>\n",
       "    </tr>\n",
       "  </thead>\n",
       "  <tbody>\n",
       "    <tr>\n",
       "      <th>model_1</th>\n",
       "      <td>0.85</td>\n",
       "      <td>3000</td>\n",
       "      <td>0.001</td>\n",
       "      <td>(1, 2)</td>\n",
       "      <td>[i, me, my, myself, we, our, ours, ourselves, ...</td>\n",
       "      <td>0.939025</td>\n",
       "    </tr>\n",
       "  </tbody>\n",
       "</table>\n",
       "</div>"
      ],
      "text/plain": [
       "         tvec__max_df  tvec__max_features  tvec__min_df tvec__ngram_range  \\\n",
       "model_1          0.85                3000         0.001            (1, 2)   \n",
       "\n",
       "                                          tvec__stop_words     score  \n",
       "model_1  [i, me, my, myself, we, our, ours, ourselves, ...  0.939025  "
      ]
     },
     "execution_count": 41,
     "metadata": {},
     "output_type": "execute_result"
    }
   ],
   "source": [
    "t_svc_df"
   ]
  },
  {
   "cell_type": "code",
   "execution_count": 42,
   "metadata": {},
   "outputs": [
    {
     "name": "stdout",
     "output_type": "stream",
     "text": [
      "Multinomial Naive Bayes: 0.9075302445997891\n",
      "\n",
      "SVC: 0.93902541110804\n"
     ]
    }
   ],
   "source": [
    "# best scores\n",
    "\n",
    "print(f'Multinomial Naive Bayes: {gs_mb_t.best_score_}')\n",
    "print(f'\\nSVC: {gs_svc_t.best_score_}')"
   ]
  },
  {
   "cell_type": "code",
   "execution_count": 43,
   "metadata": {},
   "outputs": [
    {
     "name": "stdout",
     "output_type": "stream",
     "text": [
      "Multinomial Naive Bayes: 0.9223076348981267\n",
      "\n",
      "SVC: 0.9850735129487275\n"
     ]
    }
   ],
   "source": [
    "# train data accuracy score \n",
    "\n",
    "print(f'Multinomial Naive Bayes: {gs_mb_t.score(X_train, y_train)}')\n",
    "print(f'\\nSVC: {gs_svc_t.score(X_train, y_train)}')"
   ]
  },
  {
   "cell_type": "code",
   "execution_count": 44,
   "metadata": {},
   "outputs": [
    {
     "name": "stdout",
     "output_type": "stream",
     "text": [
      "Multinomial Naive Bayes: 0.9087878787878788\n",
      "\n",
      "SVC: 0.9387878787878788\n"
     ]
    }
   ],
   "source": [
    "# test data accuracy score \n",
    "\n",
    "print(f'Multinomial Naive Bayes: {gs_mb_t.score(X_test, y_test)}')\n",
    "print(f'\\nSVC: {gs_svc_t.score(X_test, y_test)}')"
   ]
  },
  {
   "cell_type": "code",
   "execution_count": 45,
   "metadata": {},
   "outputs": [
    {
     "name": "stdout",
     "output_type": "stream",
     "text": [
      "Multinomial Naive Bayes: \n",
      "Pipeline(steps=[('tvec',\n",
      "                 TfidfVectorizer(max_df=0.85, max_features=3000, min_df=0.001,\n",
      "                                 ngram_range=(1, 2),\n",
      "                                 stop_words=['i', 'me', 'my', 'myself', 'we',\n",
      "                                             'our', 'ours', 'ourselves', 'you',\n",
      "                                             \"you're\", \"you've\", \"you'll\",\n",
      "                                             \"you'd\", 'your', 'yours',\n",
      "                                             'yourself', 'yourselves', 'he',\n",
      "                                             'him', 'his', 'himself', 'she',\n",
      "                                             \"she's\", 'her', 'hers', 'herself',\n",
      "                                             'it', \"it's\", 'its', 'itself', ...])),\n",
      "                ('mb', MultinomialNB())])\n",
      "\n",
      "SVC: \n",
      "Pipeline(steps=[('tvec',\n",
      "                 TfidfVectorizer(max_df=0.85, max_features=3000, min_df=0.001,\n",
      "                                 ngram_range=(1, 2),\n",
      "                                 stop_words=['i', 'me', 'my', 'myself', 'we',\n",
      "                                             'our', 'ours', 'ourselves', 'you',\n",
      "                                             \"you're\", \"you've\", \"you'll\",\n",
      "                                             \"you'd\", 'your', 'yours',\n",
      "                                             'yourself', 'yourselves', 'he',\n",
      "                                             'him', 'his', 'himself', 'she',\n",
      "                                             \"she's\", 'her', 'hers', 'herself',\n",
      "                                             'it', \"it's\", 'its', 'itself', ...])),\n",
      "                ('svc', SVC())])\n"
     ]
    }
   ],
   "source": [
    "# best estimators\n",
    "\n",
    "print(f'Multinomial Naive Bayes: \\n{gs_mb_t.best_estimator_}')\n",
    "print(f'\\nSVC: \\n{gs_svc_t.best_estimator_}')"
   ]
  },
  {
   "cell_type": "code",
   "execution_count": 46,
   "metadata": {},
   "outputs": [
    {
     "name": "stdout",
     "output_type": "stream",
     "text": [
      "Multinomial Naive Bayes: \n",
      "{'tvec__max_df': 0.85, 'tvec__max_features': 3000, 'tvec__min_df': 0.001, 'tvec__ngram_range': (1, 2), 'tvec__stop_words': ['i', 'me', 'my', 'myself', 'we', 'our', 'ours', 'ourselves', 'you', \"you're\", \"you've\", \"you'll\", \"you'd\", 'your', 'yours', 'yourself', 'yourselves', 'he', 'him', 'his', 'himself', 'she', \"she's\", 'her', 'hers', 'herself', 'it', \"it's\", 'its', 'itself', 'they', 'them', 'their', 'theirs', 'themselves', 'what', 'which', 'who', 'whom', 'this', 'that', \"that'll\", 'these', 'those', 'am', 'is', 'are', 'was', 'were', 'be', 'been', 'being', 'have', 'has', 'had', 'having', 'do', 'does', 'did', 'doing', 'a', 'an', 'the', 'and', 'but', 'if', 'or', 'because', 'as', 'until', 'while', 'of', 'at', 'by', 'for', 'with', 'about', 'against', 'between', 'into', 'through', 'during', 'before', 'after', 'above', 'below', 'to', 'from', 'up', 'down', 'in', 'out', 'on', 'off', 'over', 'under', 'again', 'further', 'then', 'once', 'here', 'there', 'when', 'where', 'why', 'how', 'all', 'any', 'both', 'each', 'few', 'more', 'most', 'other', 'some', 'such', 'no', 'nor', 'not', 'only', 'own', 'same', 'so', 'than', 'too', 'very', 's', 't', 'can', 'will', 'just', 'don', \"don't\", 'should', \"should've\", 'now', 'd', 'll', 'm', 'o', 're', 've', 'y', 'ain', 'aren', \"aren't\", 'couldn', \"couldn't\", 'didn', \"didn't\", 'doesn', \"doesn't\", 'hadn', \"hadn't\", 'hasn', \"hasn't\", 'haven', \"haven't\", 'isn', \"isn't\", 'ma', 'mightn', \"mightn't\", 'mustn', \"mustn't\", 'needn', \"needn't\", 'shan', \"shan't\", 'shouldn', \"shouldn't\", 'wasn', \"wasn't\", 'weren', \"weren't\", 'won', \"won't\", 'wouldn', \"wouldn't\", 'wildfire'], 'score': 0.9075302445997891}\n",
      "\n",
      "SVC: \n",
      "{'tvec__max_df': 0.85, 'tvec__max_features': 3000, 'tvec__min_df': 0.001, 'tvec__ngram_range': (1, 2), 'tvec__stop_words': ['i', 'me', 'my', 'myself', 'we', 'our', 'ours', 'ourselves', 'you', \"you're\", \"you've\", \"you'll\", \"you'd\", 'your', 'yours', 'yourself', 'yourselves', 'he', 'him', 'his', 'himself', 'she', \"she's\", 'her', 'hers', 'herself', 'it', \"it's\", 'its', 'itself', 'they', 'them', 'their', 'theirs', 'themselves', 'what', 'which', 'who', 'whom', 'this', 'that', \"that'll\", 'these', 'those', 'am', 'is', 'are', 'was', 'were', 'be', 'been', 'being', 'have', 'has', 'had', 'having', 'do', 'does', 'did', 'doing', 'a', 'an', 'the', 'and', 'but', 'if', 'or', 'because', 'as', 'until', 'while', 'of', 'at', 'by', 'for', 'with', 'about', 'against', 'between', 'into', 'through', 'during', 'before', 'after', 'above', 'below', 'to', 'from', 'up', 'down', 'in', 'out', 'on', 'off', 'over', 'under', 'again', 'further', 'then', 'once', 'here', 'there', 'when', 'where', 'why', 'how', 'all', 'any', 'both', 'each', 'few', 'more', 'most', 'other', 'some', 'such', 'no', 'nor', 'not', 'only', 'own', 'same', 'so', 'than', 'too', 'very', 's', 't', 'can', 'will', 'just', 'don', \"don't\", 'should', \"should've\", 'now', 'd', 'll', 'm', 'o', 're', 've', 'y', 'ain', 'aren', \"aren't\", 'couldn', \"couldn't\", 'didn', \"didn't\", 'doesn', \"doesn't\", 'hadn', \"hadn't\", 'hasn', \"hasn't\", 'haven', \"haven't\", 'isn', \"isn't\", 'ma', 'mightn', \"mightn't\", 'mustn', \"mustn't\", 'needn', \"needn't\", 'shan', \"shan't\", 'shouldn', \"shouldn't\", 'wasn', \"wasn't\", 'weren', \"weren't\", 'won', \"won't\", 'wouldn', \"wouldn't\", 'wildfire'], 'score': 0.93902541110804}\n"
     ]
    }
   ],
   "source": [
    "# best parameters\n",
    "\n",
    "print(f'Multinomial Naive Bayes: \\n{gs_mb_t.best_params_}')\n",
    "print(f'\\nSVC: \\n{gs_svc_t.best_params_}')"
   ]
  },
  {
   "cell_type": "code",
   "execution_count": 47,
   "metadata": {},
   "outputs": [],
   "source": [
    "# predictions\n",
    "\n",
    "y_preds_t = gs_svc_t.predict(X_test)\n",
    "\n",
    "# confusion matrix values\n",
    "\n",
    "tn, fp, fn, tp = confusion_matrix(y_test, y_preds_t).ravel()"
   ]
  },
  {
   "cell_type": "code",
   "execution_count": 48,
   "metadata": {},
   "outputs": [
    {
     "data": {
      "image/png": "[encoded data removed]",
      "text/plain": [
       "<Figure size 432x288 with 2 Axes>"
      ]
     },
     "metadata": {
      "needs_background": "light"
     },
     "output_type": "display_data"
    }
   ],
   "source": [
    "# view confusion matrix\n",
    "\n",
    "plot_confusion_matrix(gs_svc_t, X_test, y_test, cmap = 'Blues', normalize = 'true');\n"
   ]
  },
  {
   "cell_type": "code",
   "execution_count": 49,
   "metadata": {},
   "outputs": [
    {
     "name": "stdout",
     "output_type": "stream",
     "text": [
      "Accuracy: 0.9387878787878788\n",
      "Specificity: 0.9779685264663805\n",
      "Sensitivity: 0.8946859903381642\n",
      "Precision 0.9730297723292469\n"
     ]
    }
   ],
   "source": [
    "spec = tn / (tn + fp)\n",
    "sens = tp /(tp + fn)\n",
    "acc = (tp + tn)/(tn + fp + fn + tp)\n",
    "prec = tp / (tp + fp)\n",
    "\n",
    "print('Accuracy:', acc)\n",
    "print('Specificity:', spec)\n",
    "print('Sensitivity:', sens)\n",
    "print('Precision', prec)"
   ]
  },
  {
   "cell_type": "code",
   "execution_count": null,
   "metadata": {},
   "outputs": [],
   "source": []
  }
 ],
 "metadata": {
  "kernelspec": {
   "display_name": "Python 3",
   "language": "python",
   "name": "python3"
  },
  "language_info": {
   "codemirror_mode": {
    "name": "ipython",
    "version": 3
   },
   "file_extension": ".py",
   "mimetype": "text/x-python",
   "name": "python",
   "nbconvert_exporter": "python",
   "pygments_lexer": "ipython3",
   "version": "3.7.7"
  }
 },
 "nbformat": 4,
 "nbformat_minor": 4
}
