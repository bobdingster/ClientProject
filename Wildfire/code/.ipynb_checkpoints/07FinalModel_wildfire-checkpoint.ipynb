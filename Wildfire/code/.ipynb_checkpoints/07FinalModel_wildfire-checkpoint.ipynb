{
 "cells": [
  {
   "cell_type": "code",
   "execution_count": 1,
   "metadata": {},
   "outputs": [],
   "source": [
    "# import libraries\n",
    "\n",
    "import pandas as pd\n",
    "import numpy as np\n",
    "import seaborn as sns\n",
    "import matplotlib.pyplot as plt\n",
    "from nltk.corpus import stopwords\n",
    "from sklearn.metrics import confusion_matrix, plot_confusion_matrix,\\\n",
    "                            accuracy_score, roc_curve, auc\n",
    "from sklearn.model_selection import train_test_split\n",
    "from sklearn.pipeline import Pipeline\n",
    "from sklearn.feature_extraction.text import TfidfVectorizer\n",
    "from sklearn.svm import SVC\n",
    "\n",
    "import warnings \n",
    "warnings.filterwarnings(\"ignore\")\n",
    "\n",
    "%matplotlib inline"
   ]
  },
  {
   "cell_type": "code",
   "execution_count": 2,
   "metadata": {},
   "outputs": [
    {
     "name": "stdout",
     "output_type": "stream",
     "text": [
      "(19999, 11)\n"
     ]
    },
    {
     "data": {
      "text/html": [
       "<div>\n",
       "<style scoped>\n",
       "    .dataframe tbody tr th:only-of-type {\n",
       "        vertical-align: middle;\n",
       "    }\n",
       "\n",
       "    .dataframe tbody tr th {\n",
       "        vertical-align: top;\n",
       "    }\n",
       "\n",
       "    .dataframe thead th {\n",
       "        text-align: right;\n",
       "    }\n",
       "</style>\n",
       "<table border=\"1\" class=\"dataframe\">\n",
       "  <thead>\n",
       "    <tr style=\"text-align: right;\">\n",
       "      <th></th>\n",
       "      <th>Unnamed: 0</th>\n",
       "      <th>id</th>\n",
       "      <th>user_name</th>\n",
       "      <th>lat</th>\n",
       "      <th>long</th>\n",
       "      <th>date</th>\n",
       "      <th>text</th>\n",
       "      <th>text_clean</th>\n",
       "      <th>n_sentence</th>\n",
       "      <th>n_words</th>\n",
       "      <th>label</th>\n",
       "    </tr>\n",
       "  </thead>\n",
       "  <tbody>\n",
       "    <tr>\n",
       "      <th>0</th>\n",
       "      <td>0</td>\n",
       "      <td>1305657570774978560</td>\n",
       "      <td>FireandAviation</td>\n",
       "      <td>37.280386</td>\n",
       "      <td>-122.128109</td>\n",
       "      <td>2020-09-14 23:59:57+00:00</td>\n",
       "      <td>Smoke from California wildfires causes hazy sk...</td>\n",
       "      <td>smoke from california wildfire cause hazy sky ...</td>\n",
       "      <td>1</td>\n",
       "      <td>9</td>\n",
       "      <td>1</td>\n",
       "    </tr>\n",
       "    <tr>\n",
       "      <th>1</th>\n",
       "      <td>1</td>\n",
       "      <td>1304359517552095235</td>\n",
       "      <td>JoinDeepRock</td>\n",
       "      <td>36.052556</td>\n",
       "      <td>-119.406770</td>\n",
       "      <td>2020-09-11 10:01:57+00:00</td>\n",
       "      <td>96% Overwhelmingly Positive Reviews! Grab a fr...</td>\n",
       "      <td>overwhelmingly positive review  grab a frien...</td>\n",
       "      <td>2</td>\n",
       "      <td>15</td>\n",
       "      <td>0</td>\n",
       "    </tr>\n",
       "    <tr>\n",
       "      <th>2</th>\n",
       "      <td>2</td>\n",
       "      <td>1305657551703412736</td>\n",
       "      <td>matthew_paul17</td>\n",
       "      <td>35.839572</td>\n",
       "      <td>-122.243498</td>\n",
       "      <td>2020-09-14 23:59:52+00:00</td>\n",
       "      <td>So a 2-3 degree temperature difference is what...</td>\n",
       "      <td>so a   degree temperature difference is what c...</td>\n",
       "      <td>1</td>\n",
       "      <td>36</td>\n",
       "      <td>1</td>\n",
       "    </tr>\n",
       "    <tr>\n",
       "      <th>3</th>\n",
       "      <td>3</td>\n",
       "      <td>1305657540227850240</td>\n",
       "      <td>Josie95450522</td>\n",
       "      <td>34.897778</td>\n",
       "      <td>-119.722077</td>\n",
       "      <td>2020-09-14 23:59:50+00:00</td>\n",
       "      <td>@POTUS is right about the #wildfires Expert in...</td>\n",
       "      <td>potus is right about the wildfires expert inve...</td>\n",
       "      <td>2</td>\n",
       "      <td>39</td>\n",
       "      <td>1</td>\n",
       "    </tr>\n",
       "    <tr>\n",
       "      <th>4</th>\n",
       "      <td>4</td>\n",
       "      <td>1305657538281533440</td>\n",
       "      <td>Arqahn</td>\n",
       "      <td>38.370841</td>\n",
       "      <td>-120.107434</td>\n",
       "      <td>2020-09-14 23:59:49+00:00</td>\n",
       "      <td>Wildfires in California ARE caused by poor lan...</td>\n",
       "      <td>wildfire in california are caused by poor land...</td>\n",
       "      <td>1</td>\n",
       "      <td>9</td>\n",
       "      <td>1</td>\n",
       "    </tr>\n",
       "  </tbody>\n",
       "</table>\n",
       "</div>"
      ],
      "text/plain": [
       "   Unnamed: 0                   id        user_name        lat        long  \\\n",
       "0           0  1305657570774978560  FireandAviation  37.280386 -122.128109   \n",
       "1           1  1304359517552095235     JoinDeepRock  36.052556 -119.406770   \n",
       "2           2  1305657551703412736   matthew_paul17  35.839572 -122.243498   \n",
       "3           3  1305657540227850240    Josie95450522  34.897778 -119.722077   \n",
       "4           4  1305657538281533440           Arqahn  38.370841 -120.107434   \n",
       "\n",
       "                        date  \\\n",
       "0  2020-09-14 23:59:57+00:00   \n",
       "1  2020-09-11 10:01:57+00:00   \n",
       "2  2020-09-14 23:59:52+00:00   \n",
       "3  2020-09-14 23:59:50+00:00   \n",
       "4  2020-09-14 23:59:49+00:00   \n",
       "\n",
       "                                                text  \\\n",
       "0  Smoke from California wildfires causes hazy sk...   \n",
       "1  96% Overwhelmingly Positive Reviews! Grab a fr...   \n",
       "2  So a 2-3 degree temperature difference is what...   \n",
       "3  @POTUS is right about the #wildfires Expert in...   \n",
       "4  Wildfires in California ARE caused by poor lan...   \n",
       "\n",
       "                                          text_clean  n_sentence  n_words  \\\n",
       "0  smoke from california wildfire cause hazy sky ...           1        9   \n",
       "1    overwhelmingly positive review  grab a frien...           2       15   \n",
       "2  so a   degree temperature difference is what c...           1       36   \n",
       "3  potus is right about the wildfires expert inve...           2       39   \n",
       "4  wildfire in california are caused by poor land...           1        9   \n",
       "\n",
       "   label  \n",
       "0      1  \n",
       "1      0  \n",
       "2      1  \n",
       "3      1  \n",
       "4      1  "
      ]
     },
     "execution_count": 2,
     "metadata": {},
     "output_type": "execute_result"
    }
   ],
   "source": [
    "# read in csv\n",
    "\n",
    "df = pd.read_csv('../data/final_labeled.csv')\n",
    "\n",
    "print(df.shape)\n",
    "df.head()"
   ]
  },
  {
   "cell_type": "code",
   "execution_count": 3,
   "metadata": {},
   "outputs": [],
   "source": [
    "# set up X and y and train test split\n",
    "\n",
    "X = df['text_clean']\n",
    "y = df['label']\n",
    "\n",
    "X_train, X_test, y_train, y_test = train_test_split(X, y, test_size = .33, random_state = 42, stratify = y)"
   ]
  },
  {
   "cell_type": "code",
   "execution_count": 4,
   "metadata": {},
   "outputs": [
    {
     "name": "stdout",
     "output_type": "stream",
     "text": [
      "179\n",
      "182\n"
     ]
    }
   ],
   "source": [
    "## please swap out relevant words for your disaster accordingly here\n",
    "# create a custom stop words list\n",
    "\n",
    "relevant_words = ['wildfire', 'wildfires', 'california' ]\n",
    "\n",
    "\n",
    "print(len(stopwords.words('english')))\n",
    "\n",
    "stop_words = stopwords.words('english') + relevant_words\n",
    "\n",
    "print(len(stop_words))"
   ]
  },
  {
   "cell_type": "code",
   "execution_count": 5,
   "metadata": {},
   "outputs": [],
   "source": [
    "# pipline for the model\n",
    "\n",
    "pipe_svc = Pipeline([\n",
    "                     ('tvec', TfidfVectorizer(max_features = 4000, stop_words = stop_words, max_df = 0.85, min_df = 0.002, ngram_range = (1, 2))),\n",
    "                     ('svc', SVC(probability = True))\n",
    "                    ])"
   ]
  },
  {
   "cell_type": "code",
   "execution_count": 6,
   "metadata": {},
   "outputs": [
    {
     "data": {
      "text/plain": [
       "Pipeline(steps=[('tvec',\n",
       "                 TfidfVectorizer(max_df=0.85, max_features=4000, min_df=0.002,\n",
       "                                 ngram_range=(1, 2),\n",
       "                                 stop_words=['i', 'me', 'my', 'myself', 'we',\n",
       "                                             'our', 'ours', 'ourselves', 'you',\n",
       "                                             \"you're\", \"you've\", \"you'll\",\n",
       "                                             \"you'd\", 'your', 'yours',\n",
       "                                             'yourself', 'yourselves', 'he',\n",
       "                                             'him', 'his', 'himself', 'she',\n",
       "                                             \"she's\", 'her', 'hers', 'herself',\n",
       "                                             'it', \"it's\", 'its', 'itself', ...])),\n",
       "                ('svc', SVC(probability=True))])"
      ]
     },
     "execution_count": 6,
     "metadata": {},
     "output_type": "execute_result"
    }
   ],
   "source": [
    "# fit the training set\n",
    "\n",
    "pipe_svc.fit(X_train, y_train)"
   ]
  },
  {
   "cell_type": "code",
   "execution_count": 7,
   "metadata": {},
   "outputs": [
    {
     "data": {
      "text/plain": [
       "0.9275757575757576"
      ]
     },
     "execution_count": 7,
     "metadata": {},
     "output_type": "execute_result"
    }
   ],
   "source": [
    "# predictions\n",
    "\n",
    "y_preds = pipe_svc.predict(X_test)\n",
    "\n",
    "# score\n",
    "\n",
    "accuracy_score(y_test, y_preds)"
   ]
  },
  {
   "cell_type": "code",
   "execution_count": 8,
   "metadata": {},
   "outputs": [
    {
     "data": {
      "image/png": "[encoded data removed]",
      "text/plain": [
       "<Figure size 432x288 with 2 Axes>"
      ]
     },
     "metadata": {
      "needs_background": "light"
     },
     "output_type": "display_data"
    }
   ],
   "source": [
    "# confusion matrix values\n",
    "\n",
    "tn, fp, fn, tp = confusion_matrix(y_test, y_preds).ravel()\n",
    "\n",
    "# view confusion matrix\n",
    "\n",
    "labels = ['Non-disaster','Disaster']\n",
    "plot_confusion_matrix(pipe_svc, X_test, y_test, cmap = 'Blues', normalize = 'true')\n",
    "plt.xticks(ticks = [0, 1], labels = labels)\n",
    "plt.yticks(ticks = [0, 1], labels = labels)\n",
    "plt.savefig('../images/confusion_matrix.png');"
   ]
  },
  {
   "cell_type": "code",
   "execution_count": 10,
   "metadata": {},
   "outputs": [],
   "source": [
    "## Uncomment this cell to run.\n",
    "\n",
    "# ## plot AUC/ROC\n",
    "\n",
    "# # calculate the fpr and tpr for all thresholds of the classification\n",
    "\n",
    "# probs = pipe_svc.predict_proba(X_test)\n",
    "# fpr, tpr, threshold = roc_curve(y_test, y_preds)\n",
    "# roc_auc = auc(fpr, tpr)\n",
    "\n",
    "# # https://scikit-learn.org/stable/auto_examples/model_selection/plot_roc.html\n",
    "\n",
    "# plt.figure(figsize = (10, 8))\n",
    "# plt.title('Receiver Operating Characteristic', size = 14)\n",
    "# plt.plot(fpr, tpr, 'b', label = 'AUC = %0.2f' % roc_auc)\n",
    "# plt.legend(loc = 'lower right')\n",
    "# plt.plot([0, 1], [0, 1],'r--')\n",
    "# plt.xlim([-0.1, 1.1])\n",
    "# plt.ylim([-0.1, 1.1])\n",
    "# plt.ylabel('True Positive Rate', size = 12)\n",
    "# plt.xlabel('False Positive Rate', size = 12)\n",
    "# plt.savefig('../images/auc_roc.png')"
   ]
  },
  {
   "cell_type": "code",
   "execution_count": null,
   "metadata": {},
   "outputs": [],
   "source": []
  }
 ],
 "metadata": {
  "kernelspec": {
   "display_name": "Python 3",
   "language": "python",
   "name": "python3"
  },
  "language_info": {
   "codemirror_mode": {
    "name": "ipython",
    "version": 3
   },
   "file_extension": ".py",
   "mimetype": "text/x-python",
   "name": "python",
   "nbconvert_exporter": "python",
   "pygments_lexer": "ipython3",
   "version": "3.7.7"
  }
 },
 "nbformat": 4,
 "nbformat_minor": 4
}
